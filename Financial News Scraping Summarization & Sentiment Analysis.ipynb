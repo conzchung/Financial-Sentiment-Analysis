{
 "cells": [
  {
   "cell_type": "code",
   "execution_count": 1,
   "metadata": {},
   "outputs": [],
   "source": [
    "from transformers import PegasusTokenizer, PegasusForConditionalGeneration\n",
    "from bs4 import BeautifulSoup\n",
    "import requests"
   ]
  },
  {
   "cell_type": "code",
   "execution_count": 2,
   "metadata": {
    "collapsed": true
   },
   "outputs": [
    {
     "data": {
      "application/vnd.jupyter.widget-view+json": {
       "model_id": "c0469d63ff5646b5a884a5b38f4f5ad4",
       "version_major": 2,
       "version_minor": 0
      },
      "text/plain": [
       "Downloading:   0%|          | 0.00/1.91M [00:00<?, ?B/s]"
      ]
     },
     "metadata": {},
     "output_type": "display_data"
    },
    {
     "data": {
      "application/vnd.jupyter.widget-view+json": {
       "model_id": "5d3cedbab3344d709691ae4754f57378",
       "version_major": 2,
       "version_minor": 0
      },
      "text/plain": [
       "Downloading:   0%|          | 0.00/1.34k [00:00<?, ?B/s]"
      ]
     },
     "metadata": {},
     "output_type": "display_data"
    },
    {
     "data": {
      "application/vnd.jupyter.widget-view+json": {
       "model_id": "b0587176d44a42bb999052c37aebe3ba",
       "version_major": 2,
       "version_minor": 0
      },
      "text/plain": [
       "Downloading:   0%|          | 0.00/1.44k [00:00<?, ?B/s]"
      ]
     },
     "metadata": {},
     "output_type": "display_data"
    },
    {
     "data": {
      "application/vnd.jupyter.widget-view+json": {
       "model_id": "540fc7177b224ec6b64e958bedcf1c3a",
       "version_major": 2,
       "version_minor": 0
      },
      "text/plain": [
       "Downloading:   0%|          | 0.00/1.27k [00:00<?, ?B/s]"
      ]
     },
     "metadata": {},
     "output_type": "display_data"
    },
    {
     "data": {
      "application/vnd.jupyter.widget-view+json": {
       "model_id": "e3922d3f827447eabce4b8b0bb474f0c",
       "version_major": 2,
       "version_minor": 0
      },
      "text/plain": [
       "Downloading:   0%|          | 0.00/2.28G [00:00<?, ?B/s]"
      ]
     },
     "metadata": {},
     "output_type": "display_data"
    }
   ],
   "source": [
    "# Setup the NLP model\n",
    "model_name = \"human-centered-summarization/financial-summarization-pegasus\"\n",
    "tokenizer = PegasusTokenizer.from_pretrained(model_name)\n",
    "model = PegasusForConditionalGeneration.from_pretrained(model_name)"
   ]
  },
  {
   "cell_type": "code",
   "execution_count": 3,
   "metadata": {},
   "outputs": [],
   "source": [
    "#  Test for summarizing a single article\n",
    "url = \"https://finance.yahoo.com/news/aia-agrees-buy-china-post-092005949.html\"\n",
    "r = requests.get(url)\n",
    "soup = BeautifulSoup(r.text, 'html.parser')\n",
    "paragraphs = soup.find_all('p')"
   ]
  },
  {
   "cell_type": "code",
   "execution_count": 4,
   "metadata": {},
   "outputs": [
    {
     "data": {
      "text/plain": [
       "'(Bloomberg) -- AIA Group Ltd. has agreed to acquire a stake in China Post Life Insurance Co. for about 12 billion yuan ($1.9 billion) to bolster its China expansion.'"
      ]
     },
     "execution_count": 4,
     "metadata": {},
     "output_type": "execute_result"
    }
   ],
   "source": [
    "paragraphs[0].text"
   ]
  },
  {
   "cell_type": "code",
   "execution_count": 14,
   "metadata": {},
   "outputs": [],
   "source": [
    "text = [paragraph.text for paragraph in paragraphs]\n",
    "words = ' '.join(text).split(' ')[:400]\n",
    "article = ' '.join(words)"
   ]
  },
  {
   "cell_type": "code",
   "execution_count": 15,
   "metadata": {},
   "outputs": [
    {
     "data": {
      "text/plain": [
       "'(Bloomberg) -- AIA Group Ltd. has agreed to acquire a stake in China Post Life Insurance Co. for about 12 billion yuan ($1.9 billion) to bolster its China expansion. The Hong Kong-based insurance giant will buy a 24.99% stake in China Post Life, subject to regulatory approvals, AIA said in a filing to the Hong Kong exchange on Tuesday. AIA closed 0.8% higher at HK$96.5 in Hong Kong on Wednesday. The deal marks AIA’s second effort this year to boost its distribution network in the world’s most populous nation. AIA is accelerating expansion in mainland China as Covid travel restrictions continue to curb sales of insurance to Chinese visitors, previously a key driver for its Hong Kong unit. Mainland China has eclipsed Hong Kong as the largest contributor of new business value for the insurer. China Post Life, a subsidiary of China Post Group Co., is a bank-affiliated life insurer focusing on the mass-affluent market in China. It has access to a retail distribution network of around 40,000 financial outlets in the country and more than 600 million retail customers. The group’s banking arm has more outlets than its second- and third-placed peers combined, Daiwa Capital Markets analysts led by Leon Qi wrote in a Tuesday note. “We see the investment as a good move of AIA Group to tap into unexplored customer segments and regions currently not touched by AIA China,” Citigroup Inc. analyst Michelle Ma wrote in a note. China Post Life’s focus on a population segment a touch less affluent will help expand the clientele of AIA’s China unit, she added. The deal will provide rapid access to rural China, Bloomberg Intelligence analyst Steven Lam wrote in a note late Tuesday. The value of the proposed investment represents 1.34 times China Post Life’s book value on a pre-money basis as of the end of 2020, the company said. Value of new business for China Post Life was about $269 million last year. Read more: China Post Life Is Said to Seek $2.2 Billion in Stake Sale The valuation looks high compared with smaller peers listed on China’s domestic stock market and China Post Life’s low solvency ratio, Lam said. Still, it is manageable for AIA, which has a strong solvency position and cash surplus. The price tag only represents about 2.9% of AIA’s shareholder’s equity at the end of 2020, Frank Yuen, senior analyst at Moody’s Investors'"
      ]
     },
     "execution_count": 15,
     "metadata": {},
     "output_type": "execute_result"
    }
   ],
   "source": [
    "article"
   ]
  },
  {
   "cell_type": "code",
   "execution_count": 16,
   "metadata": {
    "collapsed": true
   },
   "outputs": [
    {
     "name": "stderr",
     "output_type": "stream",
     "text": [
      "/Users/constantinechung/opt/anaconda3/lib/python3.8/site-packages/torch/_tensor.py:575: UserWarning: floor_divide is deprecated, and will be removed in a future version of pytorch. It currently rounds toward 0 (like the 'trunc' function NOT 'floor'). This results in incorrect rounding for negative values.\n",
      "To keep the current behavior, use torch.div(a, b, rounding_mode='trunc'), or for actual floor division, use torch.div(a, b, rounding_mode='floor'). (Triggered internally at  ../aten/src/ATen/native/BinaryOps.cpp:467.)\n",
      "  return torch.floor_divide(self, other)\n"
     ]
    }
   ],
   "source": [
    "# Feed the article into the Pegasus NLP model\n",
    "input_ids = tokenizer.encode(article, return_tensors='pt')\n",
    "output = model.generate(input_ids, max_length=55, num_beams=5, early_stopping=True)\n",
    "summary = tokenizer.decode(output[0], skip_special_tokens=True)"
   ]
  },
  {
   "cell_type": "code",
   "execution_count": 17,
   "metadata": {},
   "outputs": [
    {
     "data": {
      "text/plain": [
       "'Hong Kong insurer to buy a 24.99% stake. Deal marks second effort this year to boost distribution network'"
      ]
     },
     "execution_count": 17,
     "metadata": {},
     "output_type": "execute_result"
    }
   ],
   "source": [
    "summary"
   ]
  },
  {
   "cell_type": "code",
   "execution_count": 18,
   "metadata": {},
   "outputs": [],
   "source": [
    "# Create a list for interested assets\n",
    "monitored_tickers = ['GME', 'TSLA', 'BTC']"
   ]
  },
  {
   "cell_type": "code",
   "execution_count": 19,
   "metadata": {},
   "outputs": [],
   "source": [
    "# Search for financial news using Google and Yahoo Finance\n",
    "def search_for_stock_news_urls(ticker):\n",
    "    search_url = \"https://www.google.com/search?q=yahoo+finance+{}&tbm=nws\".format(ticker)\n",
    "    r = requests.get(search_url)\n",
    "    soup = BeautifulSoup(r.text, 'html.parser')\n",
    "    atags = soup.find_all('a')\n",
    "    hrefs = [link['href'] for link in atags]\n",
    "    return hrefs "
   ]
  },
  {
   "cell_type": "code",
   "execution_count": 20,
   "metadata": {
    "collapsed": true
   },
   "outputs": [
    {
     "data": {
      "text/plain": [
       "{'GME': ['/?sa=X&ved=0ahUKEwip6Y3Oib_xAhVAm2oFHcZmDksQOwgC',\n",
       "  '/?output=search&ie=UTF-8&tbm=nws&sa=X&ved=0ahUKEwip6Y3Oib_xAhVAm2oFHcZmDksQPAgE',\n",
       "  '/search?q=yahoo+finance+GME&tbm=nws&ie=UTF-8&gbv=1&sei=hT3cYOmSM8C2qtsPxs252AQ',\n",
       "  '/search?q=yahoo+finance+GME&ie=UTF-8&source=lnms&sa=X&ved=0ahUKEwip6Y3Oib_xAhVAm2oFHcZmDksQ_AUIBygA',\n",
       "  '/search?q=yahoo+finance+GME&ie=UTF-8&tbm=isch&source=lnms&sa=X&ved=0ahUKEwip6Y3Oib_xAhVAm2oFHcZmDksQ_AUICSgC',\n",
       "  '/search?q=yahoo+finance+GME&ie=UTF-8&tbm=vid&source=lnms&sa=X&ved=0ahUKEwip6Y3Oib_xAhVAm2oFHcZmDksQ_AUICigD',\n",
       "  'https://maps.google.com/maps?q=yahoo+finance+GME&um=1&ie=UTF-8&sa=X&ved=0ahUKEwip6Y3Oib_xAhVAm2oFHcZmDksQ_AUICygE',\n",
       "  '/search?q=yahoo+finance+GME&ie=UTF-8&tbm=shop&source=lnms&sa=X&ved=0ahUKEwip6Y3Oib_xAhVAm2oFHcZmDksQ_AUIDCgF',\n",
       "  '/search?q=yahoo+finance+GME&ie=UTF-8&tbm=bks&source=lnms&sa=X&ved=0ahUKEwip6Y3Oib_xAhVAm2oFHcZmDksQ_AUIDSgG',\n",
       "  '/advanced_search',\n",
       "  '/search?q=yahoo+finance+GME&ie=UTF-8&tbm=nws&source=lnt&tbs=lr:lang_1zh-CN%7Clang_1zh-TW&lr=lang_zh-CN%7Clang_zh-TW&sa=X&ved=0ahUKEwip6Y3Oib_xAhVAm2oFHcZmDksQpwUIDw',\n",
       "  '/search?q=yahoo+finance+GME&ie=UTF-8&tbm=nws&source=lnt&tbs=lr:lang_1zh-TW&lr=lang_zh-TW&sa=X&ved=0ahUKEwip6Y3Oib_xAhVAm2oFHcZmDksQpwUIEA',\n",
       "  '/search?q=yahoo+finance+GME&ie=UTF-8&tbm=nws&source=lnt&tbs=qdr:h&sa=X&ved=0ahUKEwip6Y3Oib_xAhVAm2oFHcZmDksQpwUIEg',\n",
       "  '/search?q=yahoo+finance+GME&ie=UTF-8&tbm=nws&source=lnt&tbs=qdr:d&sa=X&ved=0ahUKEwip6Y3Oib_xAhVAm2oFHcZmDksQpwUIEw',\n",
       "  '/search?q=yahoo+finance+GME&ie=UTF-8&tbm=nws&source=lnt&tbs=qdr:w&sa=X&ved=0ahUKEwip6Y3Oib_xAhVAm2oFHcZmDksQpwUIFA',\n",
       "  '/search?q=yahoo+finance+GME&ie=UTF-8&tbm=nws&source=lnt&tbs=qdr:m&sa=X&ved=0ahUKEwip6Y3Oib_xAhVAm2oFHcZmDksQpwUIFQ',\n",
       "  '/search?q=yahoo+finance+GME&ie=UTF-8&tbm=nws&source=lnt&tbs=qdr:y&sa=X&ved=0ahUKEwip6Y3Oib_xAhVAm2oFHcZmDksQpwUIFg',\n",
       "  '/search?q=yahoo+finance+GME&ie=UTF-8&tbm=nws&source=lnt&tbs=ar:1&sa=X&ved=0ahUKEwip6Y3Oib_xAhVAm2oFHcZmDksQpwUIFw',\n",
       "  '/search?q=yahoo+finance+GME&ie=UTF-8&tbm=nws&source=lnt&tbs=sbd:1&sa=X&ved=0ahUKEwip6Y3Oib_xAhVAm2oFHcZmDksQpwUIGQ',\n",
       "  '/url?q=https://uk.finance.yahoo.com/news/happening-gamestop-gme-share-price-103815992.html&sa=U&ved=2ahUKEwip6Y3Oib_xAhVAm2oFHcZmDksQxfQBMAB6BAgEEAE&usg=AOvVaw0h5HHyFatSsEokwZS-pvlf',\n",
       "  '/url?q=https://uk.finance.yahoo.com/news/happening-gamestop-gme-share-price-103815992.html&sa=U&ved=2ahUKEwip6Y3Oib_xAhVAm2oFHcZmDksQ0Y8FMAB6BAgEEAI&usg=AOvVaw1Zk3iKQpSFS_3EuerhL0P7',\n",
       "  '/url?q=https://finance.yahoo.com/news/meme-stocks-show-that-community-is-profitable-reddit-co-founder-173909883.html&sa=U&ved=2ahUKEwip6Y3Oib_xAhVAm2oFHcZmDksQxfQBMAF6BAgJEAE&usg=AOvVaw36DMog0_pPDbmoXApvZInG',\n",
       "  '/url?q=https://finance.yahoo.com/news/meme-stocks-show-that-community-is-profitable-reddit-co-founder-173909883.html&sa=U&ved=2ahUKEwip6Y3Oib_xAhVAm2oFHcZmDksQ0Y8FMAF6BAgJEAI&usg=AOvVaw1bEDDzvuXj0Eic_1uPO-L8',\n",
       "  '/url?q=https://finance.yahoo.com/news/forget-amc-gamestop-10-stocks-205845496.html&sa=U&ved=2ahUKEwip6Y3Oib_xAhVAm2oFHcZmDksQxfQBMAJ6BAgHEAE&usg=AOvVaw3xd9nXX3xEiLGTuExev7jK',\n",
       "  '/url?q=https://finance.yahoo.com/news/forget-amc-gamestop-10-stocks-205845496.html&sa=U&ved=2ahUKEwip6Y3Oib_xAhVAm2oFHcZmDksQ0Y8FMAJ6BAgHEAI&usg=AOvVaw3nzORc2PfBRu3fjMyqN-mo',\n",
       "  '/url?q=https://finance.yahoo.com/video/ryan-cohen-elon-musk-goofballs-153407421.html&sa=U&ved=2ahUKEwip6Y3Oib_xAhVAm2oFHcZmDksQxfQBMAN6BAgIEAE&usg=AOvVaw39M0m5VTLspgmIosVQD37j',\n",
       "  '/url?q=https://finance.yahoo.com/video/ryan-cohen-elon-musk-goofballs-153407421.html&sa=U&ved=2ahUKEwip6Y3Oib_xAhVAm2oFHcZmDksQ0Y8FMAN6BAgIEAI&usg=AOvVaw2Upm9LfJfeWtWerak5Won5',\n",
       "  '/url?q=https://finance.yahoo.com/news/options-market-predicting-spike-gamestop-125312793.html&sa=U&ved=2ahUKEwip6Y3Oib_xAhVAm2oFHcZmDksQxfQBMAR6BAgFEAE&usg=AOvVaw01SwuKGGGyTeVovCFu0Muh',\n",
       "  '/url?q=https://finance.yahoo.com/news/options-market-predicting-spike-gamestop-125312793.html&sa=U&ved=2ahUKEwip6Y3Oib_xAhVAm2oFHcZmDksQ0Y8FMAR6BAgFEAI&usg=AOvVaw29P6o4Fbe4qDAHbHzfCoxT',\n",
       "  '/url?q=https://finance.yahoo.com/news/gamestop-amc-slip-russell-index-063837020.html&sa=U&ved=2ahUKEwip6Y3Oib_xAhVAm2oFHcZmDksQxfQBMAV6BAgDEAE&usg=AOvVaw2Ft4iI_sm_U6v3GL7KMCfq',\n",
       "  '/url?q=https://finance.yahoo.com/news/gamestop-amc-slip-russell-index-063837020.html&sa=U&ved=2ahUKEwip6Y3Oib_xAhVAm2oFHcZmDksQ0Y8FMAV6BAgDEAI&usg=AOvVaw1k_afeOXXaZI1Jcov6TAZX',\n",
       "  '/url?q=https://uk.finance.yahoo.com/news/gamestop-gme-share-price-keep-114619031.html&sa=U&ved=2ahUKEwip6Y3Oib_xAhVAm2oFHcZmDksQxfQBMAZ6BAgCEAE&usg=AOvVaw1fLkXMWSNZwmYWwbb8R4Os',\n",
       "  '/url?q=https://uk.finance.yahoo.com/news/gamestop-gme-share-price-keep-114619031.html&sa=U&ved=2ahUKEwip6Y3Oib_xAhVAm2oFHcZmDksQ0Y8FMAZ6BAgCEAI&usg=AOvVaw2-Gn2ZryLAk4Tx3Qxjf0gR',\n",
       "  '/url?q=https://ca.finance.yahoo.com/news/forget-gme-stock-consider-shopify-181532573.html&sa=U&ved=2ahUKEwip6Y3Oib_xAhVAm2oFHcZmDksQxfQBMAd6BAgGEAE&usg=AOvVaw2nwZ4QSzcB4m82c2oTaxW-',\n",
       "  '/url?q=https://ca.finance.yahoo.com/news/forget-gme-stock-consider-shopify-181532573.html&sa=U&ved=2ahUKEwip6Y3Oib_xAhVAm2oFHcZmDksQ0Y8FMAd6BAgGEAI&usg=AOvVaw2ynsxQK2Y0iBqbKrt5A4IZ',\n",
       "  '/url?q=https://finance.yahoo.com/news/gamestop-completes-market-equity-offering-104500035.html&sa=U&ved=2ahUKEwip6Y3Oib_xAhVAm2oFHcZmDksQxfQBMAh6BAgBEAE&usg=AOvVaw1mNCn50G6bgg62AeV-M53o',\n",
       "  '/url?q=https://finance.yahoo.com/news/gamestop-completes-market-equity-offering-104500035.html&sa=U&ved=2ahUKEwip6Y3Oib_xAhVAm2oFHcZmDksQ0Y8FMAh6BAgBEAI&usg=AOvVaw0trhxklf7THVEHXzhJc5bM',\n",
       "  '/url?q=https://finance.yahoo.com/news/tell-whether-amc-gamestop-russell-120012129.html&sa=U&ved=2ahUKEwip6Y3Oib_xAhVAm2oFHcZmDksQxfQBMAl6BAgAEAE&usg=AOvVaw3Oqyu8sX_5Aq_tf6qRZCHZ',\n",
       "  '/url?q=https://finance.yahoo.com/news/tell-whether-amc-gamestop-russell-120012129.html&sa=U&ved=2ahUKEwip6Y3Oib_xAhVAm2oFHcZmDksQ0Y8FMAl6BAgAEAI&usg=AOvVaw1FzK716uV4eR_384PxPrPr',\n",
       "  '/search?q=yahoo+finance+GME&ie=UTF-8&tbm=nws&ei=hT3cYOmSM8C2qtsPxs252AQ&start=10&sa=N',\n",
       "  '/url?q=https://support.google.com/websearch%3Fp%3Dws_settings_location%26hl%3Dzh-HK&sa=U&ved=0ahUKEwip6Y3Oib_xAhVAm2oFHcZmDksQty4IWA&usg=AOvVaw3lgZmr3KsNNojy1kFsPgto',\n",
       "  '/url?q=https://accounts.google.com/ServiceLogin%3Fcontinue%3Dhttps://www.google.com/search%253Fq%253Dyahoo%252Bfinance%252BGME%2526tbm%253Dnws%26hl%3Dzh-TW&sa=U&ved=0ahUKEwip6Y3Oib_xAhVAm2oFHcZmDksQxs8CCFk&usg=AOvVaw3squsFNfKKCutydpEHcdx_',\n",
       "  'https://www.google.com/preferences?hl=zh-HK&fg=1&sa=X&ved=0ahUKEwip6Y3Oib_xAhVAm2oFHcZmDksQ5fUCCFo',\n",
       "  'https://policies.google.com/privacy?hl=zh-HK&fg=1',\n",
       "  'https://policies.google.com/terms?hl=zh-HK&fg=1'],\n",
       " 'TSLA': ['/?sa=X&ved=0ahUKEwjPg-jOib_xAhVdl2oFHTrUAtkQOwgC',\n",
       "  '/?output=search&ie=UTF-8&tbm=nws&sa=X&ved=0ahUKEwjPg-jOib_xAhVdl2oFHTrUAtkQPAgE',\n",
       "  '/search?q=yahoo+finance+TSLA&tbm=nws&ie=UTF-8&gbv=1&sei=hz3cYI-kE92uqtsPuqiLyA0',\n",
       "  '/search?q=yahoo+finance+TSLA&ie=UTF-8&source=lnms&sa=X&ved=0ahUKEwjPg-jOib_xAhVdl2oFHTrUAtkQ_AUIBygA',\n",
       "  '/search?q=yahoo+finance+TSLA&ie=UTF-8&tbm=isch&source=lnms&sa=X&ved=0ahUKEwjPg-jOib_xAhVdl2oFHTrUAtkQ_AUICSgC',\n",
       "  '/search?q=yahoo+finance+TSLA&ie=UTF-8&tbm=vid&source=lnms&sa=X&ved=0ahUKEwjPg-jOib_xAhVdl2oFHTrUAtkQ_AUICigD',\n",
       "  'https://maps.google.com/maps?q=yahoo+finance+TSLA&um=1&ie=UTF-8&sa=X&ved=0ahUKEwjPg-jOib_xAhVdl2oFHTrUAtkQ_AUICygE',\n",
       "  '/search?q=yahoo+finance+TSLA&ie=UTF-8&tbm=shop&source=lnms&sa=X&ved=0ahUKEwjPg-jOib_xAhVdl2oFHTrUAtkQ_AUIDCgF',\n",
       "  '/search?q=yahoo+finance+TSLA&ie=UTF-8&tbm=bks&source=lnms&sa=X&ved=0ahUKEwjPg-jOib_xAhVdl2oFHTrUAtkQ_AUIDSgG',\n",
       "  '/advanced_search',\n",
       "  '/search?q=yahoo+finance+TSLA&ie=UTF-8&tbm=nws&source=lnt&tbs=lr:lang_1zh-CN%7Clang_1zh-TW&lr=lang_zh-CN%7Clang_zh-TW&sa=X&ved=0ahUKEwjPg-jOib_xAhVdl2oFHTrUAtkQpwUIDw',\n",
       "  '/search?q=yahoo+finance+TSLA&ie=UTF-8&tbm=nws&source=lnt&tbs=lr:lang_1zh-TW&lr=lang_zh-TW&sa=X&ved=0ahUKEwjPg-jOib_xAhVdl2oFHTrUAtkQpwUIEA',\n",
       "  '/search?q=yahoo+finance+TSLA&ie=UTF-8&tbm=nws&source=lnt&tbs=qdr:h&sa=X&ved=0ahUKEwjPg-jOib_xAhVdl2oFHTrUAtkQpwUIEg',\n",
       "  '/search?q=yahoo+finance+TSLA&ie=UTF-8&tbm=nws&source=lnt&tbs=qdr:d&sa=X&ved=0ahUKEwjPg-jOib_xAhVdl2oFHTrUAtkQpwUIEw',\n",
       "  '/search?q=yahoo+finance+TSLA&ie=UTF-8&tbm=nws&source=lnt&tbs=qdr:w&sa=X&ved=0ahUKEwjPg-jOib_xAhVdl2oFHTrUAtkQpwUIFA',\n",
       "  '/search?q=yahoo+finance+TSLA&ie=UTF-8&tbm=nws&source=lnt&tbs=qdr:m&sa=X&ved=0ahUKEwjPg-jOib_xAhVdl2oFHTrUAtkQpwUIFQ',\n",
       "  '/search?q=yahoo+finance+TSLA&ie=UTF-8&tbm=nws&source=lnt&tbs=qdr:y&sa=X&ved=0ahUKEwjPg-jOib_xAhVdl2oFHTrUAtkQpwUIFg',\n",
       "  '/search?q=yahoo+finance+TSLA&ie=UTF-8&tbm=nws&source=lnt&tbs=ar:1&sa=X&ved=0ahUKEwjPg-jOib_xAhVdl2oFHTrUAtkQpwUIFw',\n",
       "  '/search?q=yahoo+finance+TSLA&ie=UTF-8&tbm=nws&source=lnt&tbs=sbd:1&sa=X&ved=0ahUKEwjPg-jOib_xAhVdl2oFHTrUAtkQpwUIGQ',\n",
       "  '/search?ie=UTF-8&tbm=nws&q=yahoo+finance+TESLA&spell=1&sa=X&ved=2ahUKEwjPg-jOib_xAhVdl2oFHTrUAtkQBXoECAoQAQ',\n",
       "  '/url?q=https://finance.yahoo.com/news/tesla-is-being-attacked-by-rivals-and-now-its-stock-price-is-at-risk-ubs-171833145.html&sa=U&ved=2ahUKEwjPg-jOib_xAhVdl2oFHTrUAtkQxfQBMAB6BAgDEAE&usg=AOvVaw0i3FBq7-caHc_U-8JViWgz',\n",
       "  '/url?q=https://finance.yahoo.com/news/tesla-is-being-attacked-by-rivals-and-now-its-stock-price-is-at-risk-ubs-171833145.html&sa=U&ved=2ahUKEwjPg-jOib_xAhVdl2oFHTrUAtkQ0Y8FMAB6BAgDEAI&usg=AOvVaw38khGvelD9Kv-U6QANXbOP',\n",
       "  '/url?q=https://finance.yahoo.com/news/tesla-tsla-stock-sinks-market-214509160.html&sa=U&ved=2ahUKEwjPg-jOib_xAhVdl2oFHTrUAtkQxfQBMAF6BAgJEAE&usg=AOvVaw094yuw360CzThWCrfPSJtG',\n",
       "  '/url?q=https://finance.yahoo.com/news/tesla-tsla-stock-sinks-market-214509160.html&sa=U&ved=2ahUKEwjPg-jOib_xAhVdl2oFHTrUAtkQ0Y8FMAF6BAgJEAI&usg=AOvVaw3jadxppaSPOlnfkarq5uBO',\n",
       "  '/url?q=https://finance.yahoo.com/news/the-company-tesla-booted-from-the-sp-500-is-outperforming-it-over-50-202435898.html&sa=U&ved=2ahUKEwjPg-jOib_xAhVdl2oFHTrUAtkQxfQBMAJ6BAgIEAE&usg=AOvVaw3Qxd0s6T8FnuEbYAxGaov_',\n",
       "  '/url?q=https://finance.yahoo.com/news/the-company-tesla-booted-from-the-sp-500-is-outperforming-it-over-50-202435898.html&sa=U&ved=2ahUKEwjPg-jOib_xAhVdl2oFHTrUAtkQ0Y8FMAJ6BAgIEAI&usg=AOvVaw11lMisC7ynlnyRtTwEOYFX',\n",
       "  '/url?q=https://finance.yahoo.com/news/us-stocks-tesla-lifts-nasdaq-200044999.html&sa=U&ved=2ahUKEwjPg-jOib_xAhVdl2oFHTrUAtkQxfQBMAN6BAgHEAE&usg=AOvVaw3I_5V-YOV6OzO4BLTO-lwg',\n",
       "  '/url?q=https://finance.yahoo.com/news/us-stocks-tesla-lifts-nasdaq-200044999.html&sa=U&ved=2ahUKEwjPg-jOib_xAhVdl2oFHTrUAtkQ0Y8FMAN6BAgHEAI&usg=AOvVaw20UVPhH5evBH6yoWplpaco',\n",
       "  '/url?q=https://finance.yahoo.com/news/tesla-dealt-big-blow-almost-210000618.html&sa=U&ved=2ahUKEwjPg-jOib_xAhVdl2oFHTrUAtkQxfQBMAR6BAgFEAE&usg=AOvVaw2eEui4xwHrKmzvS8PUgsQV',\n",
       "  '/url?q=https://finance.yahoo.com/news/tesla-dealt-big-blow-almost-210000618.html&sa=U&ved=2ahUKEwjPg-jOib_xAhVdl2oFHTrUAtkQ0Y8FMAR6BAgFEAI&usg=AOvVaw0pw8GLI6231fKe-ZopyZfu',\n",
       "  '/url?q=https://finance.yahoo.com/news/tesla-fixes-vehicle-safety-issue-085313833.html&sa=U&ved=2ahUKEwjPg-jOib_xAhVdl2oFHTrUAtkQxfQBMAV6BAgGEAE&usg=AOvVaw1Rp12o5JQ2e7crgNzgQ4CM',\n",
       "  '/url?q=https://finance.yahoo.com/news/tesla-fixes-vehicle-safety-issue-085313833.html&sa=U&ved=2ahUKEwjPg-jOib_xAhVdl2oFHTrUAtkQ0Y8FMAV6BAgGEAI&usg=AOvVaw2zMeWSVELDZBMAYdFbFcnP',\n",
       "  '/url?q=https://finance.yahoo.com/news/ex-tesla-president-sold-stocks-000304336.html&sa=U&ved=2ahUKEwjPg-jOib_xAhVdl2oFHTrUAtkQxfQBMAZ6BAgEEAE&usg=AOvVaw1soVRaE9KbSi6DkUJyqm4C',\n",
       "  '/url?q=https://finance.yahoo.com/news/ex-tesla-president-sold-stocks-000304336.html&sa=U&ved=2ahUKEwjPg-jOib_xAhVdl2oFHTrUAtkQ0Y8FMAZ6BAgEEAI&usg=AOvVaw1pNEp6O2L7h_F3fVmqYybF',\n",
       "  '/url?q=https://finance.yahoo.com/news/boeing-tesla-johnson-johnson-fall-080631408.html&sa=U&ved=2ahUKEwjPg-jOib_xAhVdl2oFHTrUAtkQxfQBMAd6BAgBEAE&usg=AOvVaw0jSMMm_7ffDJT9M6h-63pN',\n",
       "  '/url?q=https://finance.yahoo.com/news/boeing-tesla-johnson-johnson-fall-080631408.html&sa=U&ved=2ahUKEwjPg-jOib_xAhVdl2oFHTrUAtkQ0Y8FMAd6BAgBEAI&usg=AOvVaw33W8IJKT4IebfsWVZc1vB8',\n",
       "  '/url?q=https://finance.yahoo.com/news/options-traders-speculate-surging-tesla-164020937.html&sa=U&ved=2ahUKEwjPg-jOib_xAhVdl2oFHTrUAtkQxfQBMAh6BAgAEAE&usg=AOvVaw1zb4UWe1FCO46FaJPJFKjZ',\n",
       "  '/url?q=https://finance.yahoo.com/news/options-traders-speculate-surging-tesla-164020937.html&sa=U&ved=2ahUKEwjPg-jOib_xAhVdl2oFHTrUAtkQ0Y8FMAh6BAgAEAI&usg=AOvVaw2VBhkhxxFPPlxJUZaNNW7E',\n",
       "  '/url?q=https://finance.yahoo.com/news/panasonic-sold-entire-stake-tesla-232731962.html&sa=U&ved=2ahUKEwjPg-jOib_xAhVdl2oFHTrUAtkQxfQBMAl6BAgCEAE&usg=AOvVaw1yU3uMNnoeRapKNK1zRYZt',\n",
       "  '/url?q=https://finance.yahoo.com/news/panasonic-sold-entire-stake-tesla-232731962.html&sa=U&ved=2ahUKEwjPg-jOib_xAhVdl2oFHTrUAtkQ0Y8FMAl6BAgCEAI&usg=AOvVaw1TN8Ey-ey1hCjiG92uaDwM',\n",
       "  '/search?q=yahoo+finance+TSLA&ie=UTF-8&tbm=nws&ei=hz3cYI-kE92uqtsPuqiLyA0&start=10&sa=N',\n",
       "  '/url?q=https://support.google.com/websearch%3Fp%3Dws_settings_location%26hl%3Dzh-HK&sa=U&ved=0ahUKEwjPg-jOib_xAhVdl2oFHTrUAtkQty4IWw&usg=AOvVaw263Oj-xbkTWptthhrPOSMi',\n",
       "  '/url?q=https://accounts.google.com/ServiceLogin%3Fcontinue%3Dhttps://www.google.com/search%253Fq%253Dyahoo%252Bfinance%252BTSLA%2526tbm%253Dnws%26hl%3Dzh-TW&sa=U&ved=0ahUKEwjPg-jOib_xAhVdl2oFHTrUAtkQxs8CCFw&usg=AOvVaw2yuNRGwWJiwlC0pLVzFIbW',\n",
       "  'https://www.google.com/preferences?hl=zh-HK&fg=1&sa=X&ved=0ahUKEwjPg-jOib_xAhVdl2oFHTrUAtkQ5fUCCF0',\n",
       "  'https://policies.google.com/privacy?hl=zh-HK&fg=1',\n",
       "  'https://policies.google.com/terms?hl=zh-HK&fg=1'],\n",
       " 'BTC': ['/?sa=X&ved=0ahUKEwiszpfPib_xAhXslmoFHedKAoMQOwgC',\n",
       "  '/?output=search&ie=UTF-8&tbm=nws&sa=X&ved=0ahUKEwiszpfPib_xAhXslmoFHedKAoMQPAgE',\n",
       "  '/search?q=yahoo+finance+BTC&tbm=nws&ie=UTF-8&gbv=1&sei=iD3cYKzqBeytqtsP55WJmAg',\n",
       "  '/search?q=yahoo+finance+BTC&ie=UTF-8&source=lnms&sa=X&ved=0ahUKEwiszpfPib_xAhXslmoFHedKAoMQ_AUIBygA',\n",
       "  '/search?q=yahoo+finance+BTC&ie=UTF-8&tbm=isch&source=lnms&sa=X&ved=0ahUKEwiszpfPib_xAhXslmoFHedKAoMQ_AUICSgC',\n",
       "  '/search?q=yahoo+finance+BTC&ie=UTF-8&tbm=vid&source=lnms&sa=X&ved=0ahUKEwiszpfPib_xAhXslmoFHedKAoMQ_AUICigD',\n",
       "  'https://maps.google.com/maps?q=yahoo+finance+BTC&um=1&ie=UTF-8&sa=X&ved=0ahUKEwiszpfPib_xAhXslmoFHedKAoMQ_AUICygE',\n",
       "  '/search?q=yahoo+finance+BTC&ie=UTF-8&tbm=shop&source=lnms&sa=X&ved=0ahUKEwiszpfPib_xAhXslmoFHedKAoMQ_AUIDCgF',\n",
       "  '/search?q=yahoo+finance+BTC&ie=UTF-8&tbm=bks&source=lnms&sa=X&ved=0ahUKEwiszpfPib_xAhXslmoFHedKAoMQ_AUIDSgG',\n",
       "  '/advanced_search',\n",
       "  '/search?q=yahoo+finance+BTC&ie=UTF-8&tbm=nws&source=lnt&tbs=lr:lang_1zh-CN%7Clang_1zh-TW&lr=lang_zh-CN%7Clang_zh-TW&sa=X&ved=0ahUKEwiszpfPib_xAhXslmoFHedKAoMQpwUIDw',\n",
       "  '/search?q=yahoo+finance+BTC&ie=UTF-8&tbm=nws&source=lnt&tbs=lr:lang_1zh-TW&lr=lang_zh-TW&sa=X&ved=0ahUKEwiszpfPib_xAhXslmoFHedKAoMQpwUIEA',\n",
       "  '/search?q=yahoo+finance+BTC&ie=UTF-8&tbm=nws&source=lnt&tbs=qdr:h&sa=X&ved=0ahUKEwiszpfPib_xAhXslmoFHedKAoMQpwUIEg',\n",
       "  '/search?q=yahoo+finance+BTC&ie=UTF-8&tbm=nws&source=lnt&tbs=qdr:d&sa=X&ved=0ahUKEwiszpfPib_xAhXslmoFHedKAoMQpwUIEw',\n",
       "  '/search?q=yahoo+finance+BTC&ie=UTF-8&tbm=nws&source=lnt&tbs=qdr:w&sa=X&ved=0ahUKEwiszpfPib_xAhXslmoFHedKAoMQpwUIFA',\n",
       "  '/search?q=yahoo+finance+BTC&ie=UTF-8&tbm=nws&source=lnt&tbs=qdr:m&sa=X&ved=0ahUKEwiszpfPib_xAhXslmoFHedKAoMQpwUIFQ',\n",
       "  '/search?q=yahoo+finance+BTC&ie=UTF-8&tbm=nws&source=lnt&tbs=qdr:y&sa=X&ved=0ahUKEwiszpfPib_xAhXslmoFHedKAoMQpwUIFg',\n",
       "  '/search?q=yahoo+finance+BTC&ie=UTF-8&tbm=nws&source=lnt&tbs=ar:1&sa=X&ved=0ahUKEwiszpfPib_xAhXslmoFHedKAoMQpwUIFw',\n",
       "  '/search?q=yahoo+finance+BTC&ie=UTF-8&tbm=nws&source=lnt&tbs=sbd:1&sa=X&ved=0ahUKEwiszpfPib_xAhXslmoFHedKAoMQpwUIGQ',\n",
       "  '/url?q=https://finance.yahoo.com/news/coinbase-complaints-jump-as-bitcoin-and-crypto-interest-soars-183140248.html&sa=U&ved=2ahUKEwiszpfPib_xAhXslmoFHedKAoMQxfQBMAB6BAgDEAE&usg=AOvVaw29rdxAs6Qpq0fW7fs_VQK2',\n",
       "  '/url?q=https://finance.yahoo.com/news/coinbase-complaints-jump-as-bitcoin-and-crypto-interest-soars-183140248.html&sa=U&ved=2ahUKEwiszpfPib_xAhXslmoFHedKAoMQ0Y8FMAB6BAgDEAI&usg=AOvVaw1oyI984znSgeGz5XcvtAql',\n",
       "  '/url?q=https://finance.yahoo.com/news/bitcoin-price-crash-doesnt-mean-50000-level-cant-happen-this-year-strategist-160330395.html&sa=U&ved=2ahUKEwiszpfPib_xAhXslmoFHedKAoMQxfQBMAF6BAgJEAE&usg=AOvVaw0K2yBxuUilUZfIrWNvRum2',\n",
       "  '/url?q=https://finance.yahoo.com/news/bitcoin-price-crash-doesnt-mean-50000-level-cant-happen-this-year-strategist-160330395.html&sa=U&ved=2ahUKEwiszpfPib_xAhXslmoFHedKAoMQ0Y8FMAF6BAgJEAI&usg=AOvVaw14zFxvOthVSX4A0Eu99NMz',\n",
       "  '/url?q=https://finance.yahoo.com/news/morgan-stanley-buys-over-28-010916941.html&sa=U&ved=2ahUKEwiszpfPib_xAhXslmoFHedKAoMQxfQBMAJ6BAgIEAE&usg=AOvVaw1HWESl1uPG4scnmTDMTIyf',\n",
       "  '/url?q=https://finance.yahoo.com/news/morgan-stanley-buys-over-28-010916941.html&sa=U&ved=2ahUKEwiszpfPib_xAhXslmoFHedKAoMQ0Y8FMAJ6BAgIEAI&usg=AOvVaw063_j3TIqduEtThHUhCyAk',\n",
       "  '/url?q=https://finance.yahoo.com/video/china-crackdown-bitcoin-giving-u-140953667.html&sa=U&ved=2ahUKEwiszpfPib_xAhXslmoFHedKAoMQxfQBMAN6BAgHEAE&usg=AOvVaw25ZE6DJjgNiOK3H51tCz5m',\n",
       "  '/url?q=https://finance.yahoo.com/video/china-crackdown-bitcoin-giving-u-140953667.html&sa=U&ved=2ahUKEwiszpfPib_xAhXslmoFHedKAoMQ0Y8FMAN6BAgHEAI&usg=AOvVaw18fIb7p2gJpwVQ06gBb1a1',\n",
       "  '/url?q=https://finance.yahoo.com/news/china-longest-running-crypto-exchange-072828465.html&sa=U&ved=2ahUKEwiszpfPib_xAhXslmoFHedKAoMQxfQBMAR6BAgBEAE&usg=AOvVaw2LcFLjPfyPY7qk0X3Dcfvi',\n",
       "  '/url?q=https://finance.yahoo.com/news/china-longest-running-crypto-exchange-072828465.html&sa=U&ved=2ahUKEwiszpfPib_xAhXslmoFHedKAoMQ0Y8FMAR6BAgBEAI&usg=AOvVaw04FZt0TqJOtwL49UKHwbfT',\n",
       "  '/url?q=https://uk.finance.yahoo.com/news/crypto-update-bitcoin-price-ethereum-binance-29-june-080250617.html&sa=U&ved=2ahUKEwiszpfPib_xAhXslmoFHedKAoMQxfQBMAV6BAgGEAE&usg=AOvVaw1vtVSAx5yF7-Sf0W6KcYwF',\n",
       "  '/url?q=https://uk.finance.yahoo.com/news/crypto-update-bitcoin-price-ethereum-binance-29-june-080250617.html&sa=U&ved=2ahUKEwiszpfPib_xAhXslmoFHedKAoMQ0Y8FMAV6BAgGEAI&usg=AOvVaw204OccZRzT91t3MBmDQBT0',\n",
       "  '/url?q=https://finance.yahoo.com/news/bitcoin-falls-8-5-31-222341377.html&sa=U&ved=2ahUKEwiszpfPib_xAhXslmoFHedKAoMQxfQBMAZ6BAgFEAE&usg=AOvVaw1Xn5ufuiLWklSlsDsPB6iv',\n",
       "  '/url?q=https://finance.yahoo.com/news/bitcoin-falls-8-5-31-222341377.html&sa=U&ved=2ahUKEwiszpfPib_xAhXslmoFHedKAoMQ0Y8FMAZ6BAgFEAI&usg=AOvVaw0Jv8nfueHq-ZxTA77iwmWa',\n",
       "  '/url?q=https://finance.yahoo.com/news/china-bitcoin-crackdown-fantastic-news-for-bitcoin-blockchaincom-ceo-171135200.html&sa=U&ved=2ahUKEwiszpfPib_xAhXslmoFHedKAoMQxfQBMAd6BAgAEAE&usg=AOvVaw3NGtCgjF6rEGToz6PFWmo6',\n",
       "  '/url?q=https://finance.yahoo.com/news/china-bitcoin-crackdown-fantastic-news-for-bitcoin-blockchaincom-ceo-171135200.html&sa=U&ved=2ahUKEwiszpfPib_xAhXslmoFHedKAoMQ0Y8FMAd6BAgAEAI&usg=AOvVaw0iJmIRI-BrCV3VEYcRMI-I',\n",
       "  '/url?q=https://finance.yahoo.com/news/btc-e-operator-vinnik-five-173707861.html&sa=U&ved=2ahUKEwiszpfPib_xAhXslmoFHedKAoMQxfQBMAh6BAgCEAE&usg=AOvVaw03qEL7OTYI6qGHzOYmS9f2',\n",
       "  '/url?q=https://finance.yahoo.com/news/btc-e-operator-vinnik-five-173707861.html&sa=U&ved=2ahUKEwiszpfPib_xAhXslmoFHedKAoMQ0Y8FMAh6BAgCEAI&usg=AOvVaw3mzrAPmN7WvArMYSS56QmF',\n",
       "  '/url?q=https://finance.yahoo.com/news/bitcoin-slips-toward-30-000-082337409.html&sa=U&ved=2ahUKEwiszpfPib_xAhXslmoFHedKAoMQxfQBMAl6BAgEEAE&usg=AOvVaw19uOXuZ73V_5kj_fnJPS9E',\n",
       "  '/url?q=https://finance.yahoo.com/news/bitcoin-slips-toward-30-000-082337409.html&sa=U&ved=2ahUKEwiszpfPib_xAhXslmoFHedKAoMQ0Y8FMAl6BAgEEAI&usg=AOvVaw0GniA08Anlr7TkaQnxmyuM',\n",
       "  '/search?q=yahoo+finance+BTC&ie=UTF-8&tbm=nws&ei=iD3cYKzqBeytqtsP55WJmAg&start=10&sa=N',\n",
       "  '/url?q=https://support.google.com/websearch%3Fp%3Dws_settings_location%26hl%3Dzh-HK&sa=U&ved=0ahUKEwiszpfPib_xAhXslmoFHedKAoMQty4IWA&usg=AOvVaw374jNHUm6n9GrpFFLg_76S',\n",
       "  '/url?q=https://accounts.google.com/ServiceLogin%3Fcontinue%3Dhttps://www.google.com/search%253Fq%253Dyahoo%252Bfinance%252BBTC%2526tbm%253Dnws%26hl%3Dzh-TW&sa=U&ved=0ahUKEwiszpfPib_xAhXslmoFHedKAoMQxs8CCFk&usg=AOvVaw0A6b5Fc9vwmf0DpXi_MBOr',\n",
       "  'https://www.google.com/preferences?hl=zh-HK&fg=1&sa=X&ved=0ahUKEwiszpfPib_xAhXslmoFHedKAoMQ5fUCCFo',\n",
       "  'https://policies.google.com/privacy?hl=zh-HK&fg=1',\n",
       "  'https://policies.google.com/terms?hl=zh-HK&fg=1']}"
      ]
     },
     "execution_count": 20,
     "metadata": {},
     "output_type": "execute_result"
    }
   ],
   "source": [
    "raw_urls = {ticker:search_for_stock_news_urls(ticker) for ticker in monitored_tickers}\n",
    "raw_urls"
   ]
  },
  {
   "cell_type": "code",
   "execution_count": 21,
   "metadata": {
    "collapsed": true
   },
   "outputs": [
    {
     "data": {
      "text/plain": [
       "['/?sa=X&ved=0ahUKEwip6Y3Oib_xAhVAm2oFHcZmDksQOwgC',\n",
       " '/?output=search&ie=UTF-8&tbm=nws&sa=X&ved=0ahUKEwip6Y3Oib_xAhVAm2oFHcZmDksQPAgE',\n",
       " '/search?q=yahoo+finance+GME&tbm=nws&ie=UTF-8&gbv=1&sei=hT3cYOmSM8C2qtsPxs252AQ',\n",
       " '/search?q=yahoo+finance+GME&ie=UTF-8&source=lnms&sa=X&ved=0ahUKEwip6Y3Oib_xAhVAm2oFHcZmDksQ_AUIBygA',\n",
       " '/search?q=yahoo+finance+GME&ie=UTF-8&tbm=isch&source=lnms&sa=X&ved=0ahUKEwip6Y3Oib_xAhVAm2oFHcZmDksQ_AUICSgC',\n",
       " '/search?q=yahoo+finance+GME&ie=UTF-8&tbm=vid&source=lnms&sa=X&ved=0ahUKEwip6Y3Oib_xAhVAm2oFHcZmDksQ_AUICigD',\n",
       " 'https://maps.google.com/maps?q=yahoo+finance+GME&um=1&ie=UTF-8&sa=X&ved=0ahUKEwip6Y3Oib_xAhVAm2oFHcZmDksQ_AUICygE',\n",
       " '/search?q=yahoo+finance+GME&ie=UTF-8&tbm=shop&source=lnms&sa=X&ved=0ahUKEwip6Y3Oib_xAhVAm2oFHcZmDksQ_AUIDCgF',\n",
       " '/search?q=yahoo+finance+GME&ie=UTF-8&tbm=bks&source=lnms&sa=X&ved=0ahUKEwip6Y3Oib_xAhVAm2oFHcZmDksQ_AUIDSgG',\n",
       " '/advanced_search',\n",
       " '/search?q=yahoo+finance+GME&ie=UTF-8&tbm=nws&source=lnt&tbs=lr:lang_1zh-CN%7Clang_1zh-TW&lr=lang_zh-CN%7Clang_zh-TW&sa=X&ved=0ahUKEwip6Y3Oib_xAhVAm2oFHcZmDksQpwUIDw',\n",
       " '/search?q=yahoo+finance+GME&ie=UTF-8&tbm=nws&source=lnt&tbs=lr:lang_1zh-TW&lr=lang_zh-TW&sa=X&ved=0ahUKEwip6Y3Oib_xAhVAm2oFHcZmDksQpwUIEA',\n",
       " '/search?q=yahoo+finance+GME&ie=UTF-8&tbm=nws&source=lnt&tbs=qdr:h&sa=X&ved=0ahUKEwip6Y3Oib_xAhVAm2oFHcZmDksQpwUIEg',\n",
       " '/search?q=yahoo+finance+GME&ie=UTF-8&tbm=nws&source=lnt&tbs=qdr:d&sa=X&ved=0ahUKEwip6Y3Oib_xAhVAm2oFHcZmDksQpwUIEw',\n",
       " '/search?q=yahoo+finance+GME&ie=UTF-8&tbm=nws&source=lnt&tbs=qdr:w&sa=X&ved=0ahUKEwip6Y3Oib_xAhVAm2oFHcZmDksQpwUIFA',\n",
       " '/search?q=yahoo+finance+GME&ie=UTF-8&tbm=nws&source=lnt&tbs=qdr:m&sa=X&ved=0ahUKEwip6Y3Oib_xAhVAm2oFHcZmDksQpwUIFQ',\n",
       " '/search?q=yahoo+finance+GME&ie=UTF-8&tbm=nws&source=lnt&tbs=qdr:y&sa=X&ved=0ahUKEwip6Y3Oib_xAhVAm2oFHcZmDksQpwUIFg',\n",
       " '/search?q=yahoo+finance+GME&ie=UTF-8&tbm=nws&source=lnt&tbs=ar:1&sa=X&ved=0ahUKEwip6Y3Oib_xAhVAm2oFHcZmDksQpwUIFw',\n",
       " '/search?q=yahoo+finance+GME&ie=UTF-8&tbm=nws&source=lnt&tbs=sbd:1&sa=X&ved=0ahUKEwip6Y3Oib_xAhVAm2oFHcZmDksQpwUIGQ',\n",
       " '/url?q=https://uk.finance.yahoo.com/news/happening-gamestop-gme-share-price-103815992.html&sa=U&ved=2ahUKEwip6Y3Oib_xAhVAm2oFHcZmDksQxfQBMAB6BAgEEAE&usg=AOvVaw0h5HHyFatSsEokwZS-pvlf',\n",
       " '/url?q=https://uk.finance.yahoo.com/news/happening-gamestop-gme-share-price-103815992.html&sa=U&ved=2ahUKEwip6Y3Oib_xAhVAm2oFHcZmDksQ0Y8FMAB6BAgEEAI&usg=AOvVaw1Zk3iKQpSFS_3EuerhL0P7',\n",
       " '/url?q=https://finance.yahoo.com/news/meme-stocks-show-that-community-is-profitable-reddit-co-founder-173909883.html&sa=U&ved=2ahUKEwip6Y3Oib_xAhVAm2oFHcZmDksQxfQBMAF6BAgJEAE&usg=AOvVaw36DMog0_pPDbmoXApvZInG',\n",
       " '/url?q=https://finance.yahoo.com/news/meme-stocks-show-that-community-is-profitable-reddit-co-founder-173909883.html&sa=U&ved=2ahUKEwip6Y3Oib_xAhVAm2oFHcZmDksQ0Y8FMAF6BAgJEAI&usg=AOvVaw1bEDDzvuXj0Eic_1uPO-L8',\n",
       " '/url?q=https://finance.yahoo.com/news/forget-amc-gamestop-10-stocks-205845496.html&sa=U&ved=2ahUKEwip6Y3Oib_xAhVAm2oFHcZmDksQxfQBMAJ6BAgHEAE&usg=AOvVaw3xd9nXX3xEiLGTuExev7jK',\n",
       " '/url?q=https://finance.yahoo.com/news/forget-amc-gamestop-10-stocks-205845496.html&sa=U&ved=2ahUKEwip6Y3Oib_xAhVAm2oFHcZmDksQ0Y8FMAJ6BAgHEAI&usg=AOvVaw3nzORc2PfBRu3fjMyqN-mo',\n",
       " '/url?q=https://finance.yahoo.com/video/ryan-cohen-elon-musk-goofballs-153407421.html&sa=U&ved=2ahUKEwip6Y3Oib_xAhVAm2oFHcZmDksQxfQBMAN6BAgIEAE&usg=AOvVaw39M0m5VTLspgmIosVQD37j',\n",
       " '/url?q=https://finance.yahoo.com/video/ryan-cohen-elon-musk-goofballs-153407421.html&sa=U&ved=2ahUKEwip6Y3Oib_xAhVAm2oFHcZmDksQ0Y8FMAN6BAgIEAI&usg=AOvVaw2Upm9LfJfeWtWerak5Won5',\n",
       " '/url?q=https://finance.yahoo.com/news/options-market-predicting-spike-gamestop-125312793.html&sa=U&ved=2ahUKEwip6Y3Oib_xAhVAm2oFHcZmDksQxfQBMAR6BAgFEAE&usg=AOvVaw01SwuKGGGyTeVovCFu0Muh',\n",
       " '/url?q=https://finance.yahoo.com/news/options-market-predicting-spike-gamestop-125312793.html&sa=U&ved=2ahUKEwip6Y3Oib_xAhVAm2oFHcZmDksQ0Y8FMAR6BAgFEAI&usg=AOvVaw29P6o4Fbe4qDAHbHzfCoxT',\n",
       " '/url?q=https://finance.yahoo.com/news/gamestop-amc-slip-russell-index-063837020.html&sa=U&ved=2ahUKEwip6Y3Oib_xAhVAm2oFHcZmDksQxfQBMAV6BAgDEAE&usg=AOvVaw2Ft4iI_sm_U6v3GL7KMCfq',\n",
       " '/url?q=https://finance.yahoo.com/news/gamestop-amc-slip-russell-index-063837020.html&sa=U&ved=2ahUKEwip6Y3Oib_xAhVAm2oFHcZmDksQ0Y8FMAV6BAgDEAI&usg=AOvVaw1k_afeOXXaZI1Jcov6TAZX',\n",
       " '/url?q=https://uk.finance.yahoo.com/news/gamestop-gme-share-price-keep-114619031.html&sa=U&ved=2ahUKEwip6Y3Oib_xAhVAm2oFHcZmDksQxfQBMAZ6BAgCEAE&usg=AOvVaw1fLkXMWSNZwmYWwbb8R4Os',\n",
       " '/url?q=https://uk.finance.yahoo.com/news/gamestop-gme-share-price-keep-114619031.html&sa=U&ved=2ahUKEwip6Y3Oib_xAhVAm2oFHcZmDksQ0Y8FMAZ6BAgCEAI&usg=AOvVaw2-Gn2ZryLAk4Tx3Qxjf0gR',\n",
       " '/url?q=https://ca.finance.yahoo.com/news/forget-gme-stock-consider-shopify-181532573.html&sa=U&ved=2ahUKEwip6Y3Oib_xAhVAm2oFHcZmDksQxfQBMAd6BAgGEAE&usg=AOvVaw2nwZ4QSzcB4m82c2oTaxW-',\n",
       " '/url?q=https://ca.finance.yahoo.com/news/forget-gme-stock-consider-shopify-181532573.html&sa=U&ved=2ahUKEwip6Y3Oib_xAhVAm2oFHcZmDksQ0Y8FMAd6BAgGEAI&usg=AOvVaw2ynsxQK2Y0iBqbKrt5A4IZ',\n",
       " '/url?q=https://finance.yahoo.com/news/gamestop-completes-market-equity-offering-104500035.html&sa=U&ved=2ahUKEwip6Y3Oib_xAhVAm2oFHcZmDksQxfQBMAh6BAgBEAE&usg=AOvVaw1mNCn50G6bgg62AeV-M53o',\n",
       " '/url?q=https://finance.yahoo.com/news/gamestop-completes-market-equity-offering-104500035.html&sa=U&ved=2ahUKEwip6Y3Oib_xAhVAm2oFHcZmDksQ0Y8FMAh6BAgBEAI&usg=AOvVaw0trhxklf7THVEHXzhJc5bM',\n",
       " '/url?q=https://finance.yahoo.com/news/tell-whether-amc-gamestop-russell-120012129.html&sa=U&ved=2ahUKEwip6Y3Oib_xAhVAm2oFHcZmDksQxfQBMAl6BAgAEAE&usg=AOvVaw3Oqyu8sX_5Aq_tf6qRZCHZ',\n",
       " '/url?q=https://finance.yahoo.com/news/tell-whether-amc-gamestop-russell-120012129.html&sa=U&ved=2ahUKEwip6Y3Oib_xAhVAm2oFHcZmDksQ0Y8FMAl6BAgAEAI&usg=AOvVaw1FzK716uV4eR_384PxPrPr',\n",
       " '/search?q=yahoo+finance+GME&ie=UTF-8&tbm=nws&ei=hT3cYOmSM8C2qtsPxs252AQ&start=10&sa=N',\n",
       " '/url?q=https://support.google.com/websearch%3Fp%3Dws_settings_location%26hl%3Dzh-HK&sa=U&ved=0ahUKEwip6Y3Oib_xAhVAm2oFHcZmDksQty4IWA&usg=AOvVaw3lgZmr3KsNNojy1kFsPgto',\n",
       " '/url?q=https://accounts.google.com/ServiceLogin%3Fcontinue%3Dhttps://www.google.com/search%253Fq%253Dyahoo%252Bfinance%252BGME%2526tbm%253Dnws%26hl%3Dzh-TW&sa=U&ved=0ahUKEwip6Y3Oib_xAhVAm2oFHcZmDksQxs8CCFk&usg=AOvVaw3squsFNfKKCutydpEHcdx_',\n",
       " 'https://www.google.com/preferences?hl=zh-HK&fg=1&sa=X&ved=0ahUKEwip6Y3Oib_xAhVAm2oFHcZmDksQ5fUCCFo',\n",
       " 'https://policies.google.com/privacy?hl=zh-HK&fg=1',\n",
       " 'https://policies.google.com/terms?hl=zh-HK&fg=1']"
      ]
     },
     "execution_count": 21,
     "metadata": {},
     "output_type": "execute_result"
    }
   ],
   "source": [
    "raw_urls['GME']"
   ]
  },
  {
   "cell_type": "code",
   "execution_count": 22,
   "metadata": {},
   "outputs": [],
   "source": [
    "import re"
   ]
  },
  {
   "cell_type": "code",
   "execution_count": 23,
   "metadata": {},
   "outputs": [],
   "source": [
    "# Create a list for filter keywords\n",
    "exclude_list = ['maps', 'policies', 'preferences', 'accounts', 'support']"
   ]
  },
  {
   "cell_type": "code",
   "execution_count": 24,
   "metadata": {},
   "outputs": [],
   "source": [
    "# Filter out the unwanted word from the urls\n",
    "def strip_unwanted_urls(urls, exclude_list):\n",
    "    val = []\n",
    "    for url in urls: \n",
    "        if 'https://' in url and not any(exclude_word in url for exclude_word in exclude_list):\n",
    "            res = re.findall(r'(https?://\\S+)', url)[0].split('&')[0]\n",
    "            val.append(res)\n",
    "    return list(set(val))"
   ]
  },
  {
   "cell_type": "code",
   "execution_count": 25,
   "metadata": {
    "collapsed": true
   },
   "outputs": [
    {
     "data": {
      "text/plain": [
       "{'GME': ['https://finance.yahoo.com/news/meme-stocks-show-that-community-is-profitable-reddit-co-founder-173909883.html',\n",
       "  'https://finance.yahoo.com/news/gamestop-amc-slip-russell-index-063837020.html',\n",
       "  'https://ca.finance.yahoo.com/news/forget-gme-stock-consider-shopify-181532573.html',\n",
       "  'https://finance.yahoo.com/news/gamestop-completes-market-equity-offering-104500035.html',\n",
       "  'https://finance.yahoo.com/news/options-market-predicting-spike-gamestop-125312793.html',\n",
       "  'https://finance.yahoo.com/news/tell-whether-amc-gamestop-russell-120012129.html',\n",
       "  'https://finance.yahoo.com/news/forget-amc-gamestop-10-stocks-205845496.html',\n",
       "  'https://uk.finance.yahoo.com/news/gamestop-gme-share-price-keep-114619031.html',\n",
       "  'https://finance.yahoo.com/video/ryan-cohen-elon-musk-goofballs-153407421.html',\n",
       "  'https://uk.finance.yahoo.com/news/happening-gamestop-gme-share-price-103815992.html'],\n",
       " 'TSLA': ['https://finance.yahoo.com/news/ex-tesla-president-sold-stocks-000304336.html',\n",
       "  'https://finance.yahoo.com/news/options-traders-speculate-surging-tesla-164020937.html',\n",
       "  'https://finance.yahoo.com/news/us-stocks-tesla-lifts-nasdaq-200044999.html',\n",
       "  'https://finance.yahoo.com/news/tesla-is-being-attacked-by-rivals-and-now-its-stock-price-is-at-risk-ubs-171833145.html',\n",
       "  'https://finance.yahoo.com/news/panasonic-sold-entire-stake-tesla-232731962.html',\n",
       "  'https://finance.yahoo.com/news/boeing-tesla-johnson-johnson-fall-080631408.html',\n",
       "  'https://finance.yahoo.com/news/tesla-fixes-vehicle-safety-issue-085313833.html',\n",
       "  'https://finance.yahoo.com/news/tesla-dealt-big-blow-almost-210000618.html',\n",
       "  'https://finance.yahoo.com/news/the-company-tesla-booted-from-the-sp-500-is-outperforming-it-over-50-202435898.html',\n",
       "  'https://finance.yahoo.com/news/tesla-tsla-stock-sinks-market-214509160.html'],\n",
       " 'BTC': ['https://finance.yahoo.com/news/btc-e-operator-vinnik-five-173707861.html',\n",
       "  'https://finance.yahoo.com/news/coinbase-complaints-jump-as-bitcoin-and-crypto-interest-soars-183140248.html',\n",
       "  'https://finance.yahoo.com/news/bitcoin-falls-8-5-31-222341377.html',\n",
       "  'https://finance.yahoo.com/news/bitcoin-slips-toward-30-000-082337409.html',\n",
       "  'https://uk.finance.yahoo.com/news/crypto-update-bitcoin-price-ethereum-binance-29-june-080250617.html',\n",
       "  'https://finance.yahoo.com/news/china-bitcoin-crackdown-fantastic-news-for-bitcoin-blockchaincom-ceo-171135200.html',\n",
       "  'https://finance.yahoo.com/news/morgan-stanley-buys-over-28-010916941.html',\n",
       "  'https://finance.yahoo.com/video/china-crackdown-bitcoin-giving-u-140953667.html',\n",
       "  'https://finance.yahoo.com/news/bitcoin-price-crash-doesnt-mean-50000-level-cant-happen-this-year-strategist-160330395.html',\n",
       "  'https://finance.yahoo.com/news/china-longest-running-crypto-exchange-072828465.html']}"
      ]
     },
     "execution_count": 25,
     "metadata": {},
     "output_type": "execute_result"
    }
   ],
   "source": [
    "cleaned_urls = {ticker:strip_unwanted_urls(raw_urls[ticker], exclude_list) for ticker in monitored_tickers}\n",
    "cleaned_urls"
   ]
  },
  {
   "cell_type": "code",
   "execution_count": 26,
   "metadata": {},
   "outputs": [],
   "source": [
    "# Search and scrape from the cleaned urls\n",
    "def scrape_and_process(URLs):\n",
    "    ARTICLES = []\n",
    "    for url in URLs: \n",
    "        r = requests.get(url)\n",
    "        soup = BeautifulSoup(r.text, 'html.parser')\n",
    "        paragraphs = soup.find_all('p')\n",
    "        text = [paragraph.text for paragraph in paragraphs]\n",
    "        words = ' '.join(text).split(' ')[:350]\n",
    "        ARTICLE = ' '.join(words)\n",
    "        ARTICLES.append(ARTICLE)\n",
    "    return ARTICLES"
   ]
  },
  {
   "cell_type": "code",
   "execution_count": 27,
   "metadata": {
    "collapsed": true
   },
   "outputs": [
    {
     "data": {
      "text/plain": [
       "{'GME': [\"As trading platforms like Robinhood create a rise in retail investor market participation and spark a renewed interest in shares of companies dubbed “meme stocks” like GameStop (GME), BlackBerry (BB), and AMC (AMC), the world of finance is seeing an intersection with the social media sphere. “What you're seeing is a much larger trend here,” Alexis Ohanian, founder of venture capital firm Seven Seven Six and co-founder of Reddit, told Yahoo Finance Live. “It is the intersection of community and capital. It's the intersection of social media and finance.” With online communities such as Reddit’s r/WallStreetBets fueling the meme stock craze, the movement has dismissed concerns of market manipulation. Jaime Rogozinski, who founded the subreddit in 2012, says he did it looking for a more active way to trade investment ideas within a community. The forum now boasts a community of over 10.6 million subscribers. According to Ohanian, it is this sense of community and ease of communication, in tandem with a more accessible user experience for consumers, that has enabled this new era of trading to arise. “At the end of the day now, the user experience—and that's the story of all this—the user experience keeps getting better and better and better for consumers,” Ohanian said. “And so naturally, consumers are going to gravitate towards things that are delightful, and then they also have things at their disposal they never did before, which is real time communication with their friends.” Ohanian, who is leading a $4 million seed-funding round for the new sports-betting startup Wagr, believes that the meme stock movement has demonstrated an investment opportunity in platforms that combine a sense of community around activities like betting or investing. Wagr is an app that aims to wed social media with the gambling market. In addition, Ohanian believes that the rise of the retail investor and meme stock forums has forged a new path for the future of finance. “I'm making big investments in this space, companies like Wagr, because I believe we're going to see in the next 10 years a whole other architecture for finance that's built\",\n",
       "  'By Dhirendra Tripathi Investing.com – GameStop (NYSE:GME) and AMC Entertainment (NYSE:AMC) were both in the red in Monday’s premarket trading as the dust settled over the rebalancing of the Russell indices. Both stocks were down close to 1%. GameStop has moved to the Russell 1000 index while AMC stayed in the Russell 2000 benchmark. The changes in indices are effective today. While the progress of the video game retailer to the larger index was a near certainty, there were still doubts over the inclusion of the multiplex chain owner.\\xa0 GameStop, which is trying to reinvent itself as a digital-first distributor of games and related equipment, is the original meme stock. AMC, another stock challenged by changing consumer behavior patterns, joined it in a market frenzy that added billions of dollars in their market cap in the first half of the year. While AMC was badly hit by the closure of its theaters during the pandemic, its outlook has brightened as the U.S. has gradually lifted restrictions on public gatherings. Action movie \"F9\", starring Vin Diesel- and Charlize Theron, generated $70 million in box office sales at the weekend, the best movie debut since the start of the pandemic. F9 was made by Universal, a Comcast (NASDAQ:CMCSA) subsidiary, collected $70 million over the weekend. Investment managers and institutional investors use Russell indexes as benchmarks for active investment strategies. Approximately $10.6 trillion in assets are benchmarked against Russell’s U.S. indexes. Russell indexes are part of FTSE Russell, a leading global index provider. Related Articles GameStop, AMC Slip On Russell Index Rebalance Frankfurt banker headcount to drop despite Brexit boost - study Zalando to set up logistic site in France, creating 2,000 jobs, Elysee says Related Quotes We know that hedge funds generate strong, risk-adjusted returns over the long run, therefore imitating the picks that they are collectively bullish on can be a profitable strategy for retail investors. With billions of dollars in assets, smart money investors have to conduct complex analyses, spend many resources and use tools that are not always […] The large banks are raining dividends on their shareholders after',\n",
       "  'The last week saw shares of GameStop (NYSE:GME) gain momentum, as retail traders were eying another short squeeze to drive the stock higher. GME stock was up 26% in the last five trading sessions and is currently trading at a market cap of US$15.7 billion. GameStop’s short volume ratio is 22%, which indicates there is some room for retail traders to initiate a short squeeze. GameStop was one of the leading companies for gaming enthusiasts, and it successfully built a competitive advantage over time. Gamers could purchase video games and refurbished hardware as well as trade games at GameStop. However, the shift towards digital gaming made GameStop somewhat irrelevant, driving its revenue lower at an alarming rate. GME reported sales of US$9.22 billion in fiscal 2018, and it fell to US$5.09 billion in fiscal 2021. While analysts expect sales to rise by 5.3% to US$5.36 billion in 2022, it’s forecast to decline by 3.6% to US$5.17 billion in 2023. Comparatively, GME is expected to improve its loss per share from US$2.14 in fiscal 2021 to US$0.53 in fiscal 2023. It means that GME stock is trading at a forward price-to-sales multiple of over three, which is steep for a company that is grappling with tepid sales and negative profit margins. Its price-to-book ratio is also sky high at 33. Wall Street remains bearish on GameStop stock and has a 12-month average price target of US$48, which is significantly lower than its current trading price of US$222. For long-term growth investors, Shopify (TSX:SHOP)(NYSE:SHOP) is a stock that has the potential to derive exponential gains. SHOP stock has been on an absolute tear since it went public and has gained 4,740% in the last six years. Shopify is Canada’s largest company in terms of market cap, and it continues to experience stellar growth. In Q1 of 2021, Shopify’s revenue surged 110% year over year. Comparatively, its adjusted earnings per share rose to US$2.01 from US$0.19 in the prior-year period. Shopify CFO Amy Shapero said, “Shopify’s momentum continued into 2021 as digital commerce tailwinds remained strong and merchants took advantage of the range',\n",
       "  'GRAPEVINE, Texas, June 22, 2021 (GLOBE NEWSWIRE) -- GameStop Corp. (NYSE: GME) (“GameStop” or the “Company”) today announced that it has completed its previously announced “at-the-market” equity offering program (the “ATM Offering”). GameStop disclosed on June 9, 2021 that it filed a prospectus supplement with the U.S. Securities and Exchange Commission to offer and sell up to a maximum of 5,000,000 shares of its common stock from time to time through the ATM Offering. The Company ultimately sold 5,000,000 shares of common stock and generated aggregate gross proceeds before commissions and offering expenses of approximately $1,126,000,000. GameStop will use net proceeds from the ATM Offering for general corporate purposes as well as for investing in growth initiatives and maintaining a strong balance sheet. About GameStop  GameStop, a Fortune 500 company headquartered in Grapevine, Texas, is a leading specialty retailer offering games and entertainment products through its E-Commerce properties and thousands of stores. Visit www.GameStop.com to explore our products and offerings. Follow @GameStop and @GameStopCorp on Twitter and find us on Facebook at www.facebook.com/GameStop. Cautionary Statement Regarding Forward-Looking Statements - Safe Harbor This press release contains “forward looking statements” within the meaning of Section 27A of the Securities Act of 1933, as amended, and Section 21E of the Securities Exchange Act of 1934, as amended. These forward-looking statements generally, including statements about the ATM Offering and the use of proceeds therefrom, include statements that are predictive in nature and depend upon or refer to future events or conditions, and include words such as “believes,” “plans,” “anticipates,” “projects,” “estimates,” “expects,” “intends,” “strategy,” “future,” “opportunity,” “may,” “will,” “should,” “could,” “potential,” or similar expressions. Statements that are not historical facts are forward-looking statements. Forward-looking statements are based on current beliefs and assumptions that are subject to risks and uncertainties. Forward-looking statements speak only as of the date they are made, and the Company undertakes no obligation to update any of them publicly in light of new information or future events. Actual results could differ materially from those contained in any forward-looking statement as a result of various factors. More information, including potential risk',\n",
       "  'Investors in GameStop Corp. GME need to pay close attention to the stock based on moves in the options market lately. That is because the Jul 16, 2021 $30.00 Put had some of the highest implied volatility of all equity options today. Implied volatility shows how much movement the market is expecting in the future. Options with high levels of implied volatility suggest that investors in the underlying stocks are expecting a big move in one direction or the other. It could also mean there is an event coming up soon that may cause a big rally or a huge sell-off. However, implied volatility is only one piece of the puzzle when putting together an options trading strategy. Clearly, options traders are pricing in a big move for GameStop shares, but what is the fundamental picture for the company? Currently, GameStop is a Zacks Rank #3 (Hold) in the Retail - Consumer Electronics industry that ranks in the Top 10% of our Zacks Industry Rank. Over the last 60 days, no analysts have increased their earnings estimates for the current quarter, while one analyst has revised the estimate downward. The net effect has widened our Zacks Consensus Estimate for the current quarter from a loss of 65 cents per share to a loss of 73 cents in that period.Given the way analysts feel about GameStop right now, this huge implied volatility could mean there’s a trade developing. Oftentimes, options traders look for options with high levels of implied volatility to sell premium. This is a strategy many seasoned traders use because it captures decay. At expiration, the hope for these traders is that the underlying stock does not move as much as originally expected. Check out the simple yet high-powered approach that Zacks Executive VP Kevin Matras has used to close recent double and triple-digit winners. In addition to impressive profit potential, these trades can actually reduce your risk.Click to see the trades now >> Want the latest recommendations from Zacks Investment Research? Today, you can download 7 Best Stocks for the Next 30 Days. Click to get this free',\n",
       "  '(Bloomberg) -- The Russell Reconstitution is a big deal every year, but this time, potential changes for GameStop Corp. and AMC Entertainment Holdings Inc. make it interesting for a broader swath of investors than normal. The annual reconstitution of Russell’s U.S. family of indexes accounts for market changes in the previous year, and it affects more than $10.6 trillion in investor assets benchmarked to, or invested in, products based on the Russell U.S. Indexes, according to its website. Trading volumes on U.S. exchanges also tend to be among the heaviest of the year around the event. Will AMC and GameStop be moved into the large-cap Russell 1000 from the small-cap Russell 2000? The key date was May 7. The reconstitution ranks and market cap breaks for the Russell Indexes are determined based on information available on rank day -- this year, May 7 -- according to Catherine Yoshimoto, FTSE Russell’s director of product management. An existing Russell 2000 index member would have had to have a total market cap exceeding $7.3 billion in order to move into the Russell 1000 index, she said. Going by that, AMC -- with a market cap of $4.28 billion on May 7 -- would fall short of inclusion, while GameStop and its $11.97 billion market cap would make it. As of Friday’s close, after big rallies in the last month, GameStop had a market capitalization of $18.4 billion. AMC’s is $24.6 billion. The reconstitution process is pretty formulaic: There’s a whole cottage industry of analysts who predict changes to the indexes in advance with high accuracy. A preliminary ranking is done by Russell on May 7. The first round of information was announced on Friday, with the preliminary list of additions and deletions from the Russell 3000 (that’s a combination of the Russell 1000 and Russell 2000). Here are key quotes from Friday’s press release: “The market capitalization breakpoint which separates companies in the U.S. large-cap Russell 1000 Index and companies in the U.S. small-cap Russell 2000 Index increased by 73% from $3.0 billion in 2020 to $5.2 billion for 2021.”“The closely-watched final index',\n",
       "  \"In this article, we discuss the 10 new stocks Reddit's WallStreetBets is buying. If you want to skip our detailed analysis of these stocks, go directly to 5 New Stocks Reddit's WallStreetBets Is Buying. The post-pandemic marketplace, already under heavy strain amid fears of inflation and a dramatic drop in the prices of growth stocks and cryptocurrencies, has been thrown into more confusion in recent days as meme stock rallies, fueled by retail investor bets against the short-selling attempts of hedge funds, return to the fore. At the turn of the year, these meme stock rallies led to billions in losses for big finance capital, leading to regulatory probes and calls for policing around trading on applications like Robinhood.\\xa0 Six months ago, the two primary actors at the center of the hedge fund versus retail investor battle were GameStop Corp. (NYSE: GME), the video game and entertainment products retailer, and AMC Entertainment Holdings, Inc. (NYSE: AMC), the movie theatre chain based in Kansas. GameStop Corp. (NYSE: GME), the focus of a short-selling attempt in early January, saw share price rise close to 1,500% in the first three weeks of the new year as retail investors, who used Reddit forum WallStreetBets to coordinate, spoiled hedge fund bets against the stock.\\xa0 Similarly, AMC Entertainment Holdings, Inc. (NYSE: AMC) was also the target of a short-seller scheme this year. The company has recently been involved in another short squeeze as the share price registers double digits growth amid reports that many shares of the firm are being held short. On June 19, data from finance firm Ortex showed that short-sellers had lost more than $500 million after a rally saw the share price of the movie theatre firm jump by close to 15% in a single day as a result of coordinated action through social media.\\xa0 Even though GameStop Corp. (NYSE: GME) and AMC Entertainment Holdings, Inc. (NYSE: AMC) have grabbed all the headlines around Reddit trading and the power of the influencers on WallStreetBets forum, some other stocks that remain popular on the platform, some of which are listed below, include Tesla,\",\n",
       "  'What it takes to mine crypto coins and how feasible is it to make it a home enterprise  The GameStop (NYSE: GME) share price has surged by nearly 5,500% over the past 12 months. Investors and traders have piled into the stock as it’s continued to push higher. What started as an online phenomenon has grown into something bigger. Investors and traders from all walks of life are trying to capitalise on what’s become one of the most talked-about companies on the New York Stock Exchange. Unfortunately, the company’s fundamentals haven’t matched up to its staggering share price performance so far. In its 2021 financial year, the organisation reported revenues of $5.1bn and a loss of $215m. Before the recent rally, the GameStop (GME) share price had been under pressure for years. The company, which owned a large brick-and-mortar retail estate, was struggling to compete with online peers. However, last year was a bit of a watershed for the group. As the pandemic raged around the world and the company’s stores suffered yet more disruption, management took a decisive step to move more business online. It’s taken several other steps to become more forward-thinking. It’s hired several new executives including Amazon.com executive Elliott Wilke as chief growth officer and Ryan Cohen, the entrepreneur who built Chewy.com into a pet supply giant and sold it for more than $3bn. In addition, rumours suggest Cohen will bring in e-commerce experts with the goal of transforming GameStop into a retailer fit for the 21st century. As well as these initiatives, the GameStop share price received a boost when it emerged that the company was looking to branch into the worlds of non-fungible tokens (NFTs) and cryptocurrencies. Even though some analysts believe the recent rally in GameStop shares is nothing but speculation, I can see a scenario where the stock continues to move higher. At the time of writing, it’s trading at a price-to-sales (P/S) multiple of 4. Online retailer Etsy, which has a similar market capitalisation, is trading at a P/S ratio of 10. As such, the GameStop (GME) share price looks',\n",
       "  \"Gamestop has tapped two former Amazon executives as CEO and CFO. Wedbush Senior Analyst Michael Pachter joins Yahoo Finance Live to discuss. - Let's turn our attention now to shares of GameStop. It is sliding fast in this session, down nearly 13% right now after the company announced an overhaul at the top. Chewy co-founder Ryan Cohen voted in as the company's new chairman as expected yesterday. Also, two former Amazon executives named to key positions-- former Amazon Australia Chief Matt Furlong was appointed as the CEO while 17-year Amazon veteran Mike Recupero named chief financial officer. This coming on a day when they, of course, reported their quarterly earnings. The company did post a loss per share of $.45. But sales did rise about 25% in the first quarter. Certainly, the stock is sliding on the company failing to provide an outlook for the year, saying they may sell as many as 5 million shares as well. Let's bring in Michael Pachter, Wedbush Senior Analyst. And, Michael, you've got a 12-month price target of $50 a share. So we're looking at $262 right now where it's trading. What do you make of the shake-up at the top when-- when you think about the fundamentals here and where GameStop is headed? You've got a lot of Amazon veterans in there now. MICHAEL PACHTER: Yeah, we don't know where GameStop is headed. But it's clear that they intend to remake themselves as an [? Amazon-lite. ?] And, you know, Ryan Cohen promised investors a strategy back in mid-January. It's been nearly five months, and we haven't seen that yet. So I actually think the stock is probably down more on lack of, you know, an unveil of their new strategy than anything else. Possibly the Reddit Raiders-- you know, the retail investors-- wanted to see somebody from Coinbase or somebody from some cannabis supplier-- something transformational-- take over as CEO. And we got more of the same. And as a fundamental research analyst, I am A-OK with hiring people from Amazon, especially from the e-commerce division. So these are good people.\",\n",
       "  'What it takes to mine crypto coins and how feasible is it to make it a home enterprise  The GameStop (NYSE:GME) share price continues to defy expectations. Over the last 12 months, even with the high level of volatility, the stock is up nearly 4,600%. And just last week, it continued its upward trajectory, jumping by a further 10% in the first hours of trading on Tuesday. What caused this recent surge? And could it be that GameStop is a worthwhile long-term investment for my portfolio? Let’s take a closer look. The pandemic decimated a large portion of the retail industry. And for GameStop, it proved to be a complete catastrophe. But the video games retailer was in a struggling position long before Covid-19 entered the picture. After all, with most gamers buying and downloading their games digitally, the need for GameStop’s physical stores has been dwindling. In an attempt to save the business, Ryan Cohen, the co-founder of the online pet food business Chewy, has been brought on as the new chairman of the board. His vision is to transform the company into the Amazon of gaming. Needless to say, that’s quite a challenge. Although it’s worth noting that he managed to pull off something similar for Chewy. Consequently, investors seem to have faith in this new leadership. If Cohen succeeds, then the currently overvalued GME share price may actually be justified. And now that the firm has just finished raising over $1.1bn through the sale of five million shares, its balance sheet has been flooded with cash to fund this enterprise. That appears to be why the GME share price shot up last week. The last time I looked at this business, the financials were quite concerning. Since then, the company’s first-quarter earnings report for 2021 has been published. And there are some encouraging signs of a potential turnaround. Using previously raised capital from shareholders and proceeds from closing stores, long-term debt has been completely eliminated. Meanwhile, this latest round of funding has significantly improved the liquidity position of the business. In other words, GameStop shouldn’t have'],\n",
       " 'TSLA': ['BERKELEY, Calif. (Reuters) - Long-time Tesla Inc executive and president Jerome Guillen, who left the company earlier in June, has sold an estimated $274 million worth of shares after exercising stock options since June 10, according to a filing with the Securities and Exchange Commission (SEC).\\xa0 \\xa0\\xa0The filing, which was submitted to the SEC on Tuesday, said that Guillen expected to sell 215,718 shares for $129 million that day, and that he offloaded 145,289 shares worth $89.6 million on June 14, and 90,111 shares worth $55 million on June 10.\\xa0 \\xa0\\xa0Guillen, a former Mercedes engineer who was with Tesla since 2010, oversaw the company\\'s entire vehicles business before being named president of the Tesla Heavy Trucking unit in March. He left the company on June 3.\\xa0 \\xa0\\xa0The departure of Guillen, one of Tesla\\'s top four leaders, including Chief Executive Elon Musk, has sparked market concerns about Tesla\\'s future vehicle programs like the Semi electric truck and new batteries called 4680 cells.\\xa0 \\xa0\\xa0Gordon Johnson, an analyst at GLJ Research, estimated that Guillen has cut his exposure to Tesla from 1.3 million shares a weak ago to about 150,000 as of Friday.\\xa0 \\xa0\\xa0“Should TSLA be on the verge of technological and autonomous breakthroughs and breakout 2Q21E deliveries/earnings, as well as EV domination, why has what many assumed was the second most important person at the company (i.e., Jerome Guillen) sold $274mn worth of TSLA stock,\" he said in a report.\\xa0 \\xa0\\xa0\"It could raise some eyebrows for investors,\" Wedbush Securities analyst Daniel Ives said, adding that investors are going to watch closely to see if he sells more.\\xa0 \\xa0\\xa0Stock options give employees and executives the right to buy their company\\'s stock at a specified price for a certain period of time. When share prices rise above the exercise price, they can buy the stocks at discounted prices.\\xa0 \\xa0\\xa0It was not immediately known how much Guillen paid to exercise the options.\\xa0 \\xa0\\xa0(Reporting by Hyunjoo Jin, additional reporting by Jessica DiNapoli; Editing by Sonya Hepinstall and Steve Orlofsky)\\xa0 Related Quotes In 2020, AMC lost $16.15 a share. Over the past five quarters, the company\\'s sales',\n",
       "  \"China-based electric vehicle manufacturer Nio Inc (NYSE:NIO) is one of the best performing stocks on the New York Stock Exchange today. At last check, the security is up 8.7% at $49.01, eyeing its highest close since March 1. NIO boasts a 26.9% lead over the last month and a 609.7% year-to-date gain. Options traders have been taking notice of the Tesla (TSLA) competitor as a result. In response to today's price action, 310,000 calls and 111,000 puts have crossed the tape, which is nearly double the average intraday volume. Most popular is the weekly 7/2 50-strike put, followed by the 48-strike call from the same series, with positions being opened at both. Calls have been the popular choice of late, per Nio stock's 10-day call/put volume ratio of 3.28 at the International Securities Exchange (ISE), Cboe Options Exchange (CBOE), and NASDAQ OMX PHLX (PHLX). This ratio stands higher than 79% of readings from the past year, suggesting calls are being picked up at a quicker-than-usual rate. These traders have picked an opportune time to speculate on NIO with options, as premiums can be had for a bargain at the moment. The equity's Schaeffer's Volatility Index (SVI) of 55% is higher than just 2% of readings from the last 12 months, indicating that the options market is pricing in relatively low volatility expectations right now. Plus, Nio stock's Schaeffer's Volatility Scorecard (SVS) sits at 100 out of a possible 100. This means the security has managed to exceed volatility expectations during the past year -- a boon for option buyers. Related Quotes The electric-vehicle stock has risen about 29% over the past month, but it is still only 2% higher year to date. What pandemic? The ranks of super rich people jumped 6.3% in 2021 by largely sticking with the same strategy — owning S&P 500 stocks. Nio broke above its downtrend with nearly a 10% gain. Over the weekend, Benzinga reported 5 more battery swap stations in China from the company and also noted they have a Power Day coming up July 9. (Bloomberg) -- Hutchmed (China) Ltd., a cancer\",\n",
       "  '(For a Reuters live blog on U.S., UK and European stock markets, click LIVE/ or type LIVE/ in a news window.) * Tesla rallies after opening solar charging station * Retail darlings Alfi, Torchlight extend declines (Updates with details at end of session) By Noel Randewich and Devik Jain June 23 (Reuters) - The Nasdaq climbed to a record-high close on Wednesday, fueled by a rally in Tesla Inc, with investors cheering data that showed a record peak for U.S. factory activity in June. Gains in Nvidia Corp and Facebook Inc extended a recent rebound in top-shelf growth stocks that fell out of favor in recent months as investors focused on companies expected to do well as the economy recovers from the pandemic. Data firm IHS Markit said its flash U.S. manufacturing Purchasing Managers\\' Index rose to a reading of 62.6 this month, beating estimates of 61.5, but manufacturers are still struggling to secure raw materials and qualified workers, substantially raising prices. The \"high level of today\\'s surveys will provide some confirmation for the Fed that the time to begin taking its foot off the accelerator is not far away,\" said Jai Malhi, global market strategist at J.P. Morgan Asset Management. On Tuesday, Fed Chair Jerome Powell reaffirmed the central bank\\'s intent not to raise interest rates too quickly, based only on the fear of coming inflation. Powell\\'s comments follow the Fed\\'s projection a week ago of an increase in interest rates as soon as 2023, sooner than anticipated. Since then, growth stocks, including major tech names like Tesla and Nvidia, have mostly rallied and outperformed value stocks, like banks and materials companies. \"People are plowing money into what has worked. People are basically momentum-chasing and they\\'re using the last three years of performance to figure out what to chase,\" said Mike Zigmont, head of trading and research at Harvest Volatility Management in New York. Around half of the 11 major S&P sector indexes rose, with consumer discretionary among the top gainers. Tesla jumped after the electric vehicle maker said it had opened a solar-powered charging station with on-site power',\n",
       "  'A day after Tesla (TSLA) CEO Elon Musk turned the big 50, UBS is sending him a belated digital birthday gift.\\xa0 UBS analysts led by Patrick Hummel slashed the firm\\'s price target on Tesla\\'s stock to $660 from $730. The group maintained its Neutral rating on Tesla shares. But, the analysts cut their EPS estimates for 2021 by 11% and by 10% for 2022. In an extensive dive into the EV industry\\'s outlook, UBS voiced several noteworthy concerns for the diehard Tesla bulls.\\xa0 \"While results from our EV survey are solid across the board for Tesla, momentum in the quarters ahead is likely more in favor of competitors with a busier launch pipeline. Our key concern shorter-term is that Tesla\\'s demand momentum in China is slowing, and our checks on the ground suggest that BEVs [battery electric vehicles] from domestic brands are gaining further ground vs. Tesla, which may trigger additional pricing action by Tesla and consequently lower gross margins,\" explained UBS. \"Further, the delays in Model Y launch in Europe, FSD [full self-driving] rollout and the next-gen 4680 battery in Fremont (we think this is the root cause for the cancellation of Model S Plaid+) will weigh on sentiment for Tesla.\"\\xa0 Tesla\\'s stock fell by more than 1% in early afternoon trading Tuesday.\\xa0 Add souring Wall Street sentiment on Tesla\\'s competitive position as the latest factor weighing on the stock price.\\xa0 Tesla shares have plunged 22% since the automaker disclosed on Feb. 8 it had purchased $1.5 billion in bitcoin to be held on its balance sheet. The pullback coincides with the latest crypto winter, which has seen prices for bitcoin nosedive to $35,000 from a record high of $63,000 in mid-April.\\xa0 Meanwhile, Tesla\\'s \"soft recall\" of 285,000 cars in China this week due to cruise control safety concerns hasn\\'t been well received by market goers. The EV pioneer had already been dealing with consumer complaints in China over product quality.\\xa0 The unwelcome developments have sparked concern on Tesla potentially losing market share to China-based EV rivals such as Nio and Xpeng. Tesla\\'s stock has shed 24% since reaching',\n",
       "  'By Sam Nussey and Shinji Kitamura TOKYO (Reuters) - Panasonic Corp sold its stake in electric car maker Tesla Inc for about 400 billion yen ($3.61 billion) in the year ended March, a spokesperson for the Japanese company said on Friday. The sale comes as the bicycles-to-hair dryers conglomerate is seeking to reduce its dependence on Tesla and raise cash for growth investment. Panasonic\\'s battery business is dominated by Elon Musk\\'s Tesla, but the two firms have had a tense relationship at times. Panasonic bought 1.4 million Tesla shares at $21.15 each in 2010 for about $30 million. That stake was worth $730 million at the end of March 2020. The shares have gained almost seven fold since then and closed up 3.5% at $679.82 apiece on Thursday. \"The impact of crypto assets may have pushed Tesla\\'s share price above its intrinsic value, making it a good time to sell,\" said Hideki Yasuda, an analyst at Ace Research Institute. Musk said in February his firm bought bitcoin and would take payment in the cryptocurrency, a decision he later reversed, and his comments on Twitter drive swings in the price of such assets. While Panasonic gave financial backing to Tesla when it was smaller, the automaker\\'s expansion means there\\'s no need for capital ties, Yasuda added. Panasonic\\'s shares closed up 4.9% on Friday in the biggest such move since January. The stake sale will not affect the partnership with Tesla, the Panasonic spokesperson said, and was made as part of a review of shareholdings in line with corporate governance guidelines. The sale comes as the automaker is diversifying its own battery supply chain. Tesla has struck deals with South Korea\\'s LG Energy Solution, a unit of LG Chem, and China\\'s CATL, with Reuters reporting the latter is planning a plant in Shanghai near the automaker\\'s production base. Panasonic said earlier this year it would buy the shares https://www.reuters.com/business/panasonic-says-it-will-buy-us-supply-chain-software-firm-blue-yonder-2021-04-23 of U.S. supply-chain software company Blue Yonder that it does not already own, in a $7.1 billion deal. Its biggest such deal in a decade, the price raised the eyebrows of analysts who',\n",
       "  'By Peter Nurse Investing.com -- Stocks in focus in premarket trade on Monday, June 28th. Please refresh for updates. Johnson&Johnson (NYSE:JNJ) stock fell 0.1% after the drugmaker agreed over the weekend to settle claims with New York state that it fueled the opioid crisis, paying $230 million. This means it won’t be part of a slew of litigations that allege a link between use of opioids and nearly 500,000 deaths in the last two decades. Tesla (NASDAQ:TSLA) stock fell 0.1% after the company announced plans to virtually ‘recall’ nearly 300,000 China-made and imported Model 3 and Model Y cars for an online software update related to assisted driving. Boeing (NYSE:BA) stock fell 1.1% after the U.S. Federal Aviation Administration told the planemaker that its planned 777X is not yet ready for a significant certification step and warned it \"realistically\" will not certify the airplane until mid- to late-2023. NRG Energy (NYSE:NRG) stock rose 2.6% after Goldman Sachs (NYSE:GS) upgraded its recommendation on the energy player to ‘conviction buy’ from ‘buy’, saying the stock’s recent underperformance in the wake of the recent extreme Texas weather makes it attractive, seeing nearly 50% upside. Intellia Therapeutics (NASDAQ:NTLA) stock rose 57% after the company announced positive results from a study of a gene-editing treatment. Baidu (NASDAQ:BIDU) stock rose 0.9% after the Chinese tech giant announced the appointment of Frank Wu, formerly with Cadillac, to lead the design studio at its smart electric vehicle venture, Jidu Auto.  Perion Network  (NASDAQ:PERI) stock rose 11% after the advertising technology company reported strong second-quarter earnings and updated its full-year forecast. GameStop (NYSE:GME) stock fell 0.2% while AMC Entertainment (NYSE:AMC) stock rose 2.5% after the two meme stocks were linked to the rebalancing of the Russell indices. GameStop, a troubled video games retailer, has moved to the Russell 1000 index while AMC, a cinema chain operator, stayed in the Russell 2000 benchmark. The changes in indices are effective today. Biogen (NASDAQ:BIIB) stock fell 0.9% after U.S. lawmakers announced an inquiry into the process that approved its Alzheimer’s treatment as well as its pricing. Related Articles Swiss bank',\n",
       "  'Tesla (TSLA) has issued a software update to address a safety problem linked to the cruise-control system in its vehicles in China, according to a Wall Street Journal report. The regulator in China calls it a product recall. An investigation found that the system could be activated accidentally and lead to the vehicle accelerating unexpectedly. The safety software update targets more than 285,000 Tesla Model 3 and Model Y vehicles produced between December 2019 and June 2021. More than 90% of those vehicles were manufactured at Tesla’s China plant in Shanghai. The update will fix the problem without requiring drivers to go to a dealer. “Tesla will continue to improve safety in strict accordance with national requirements,” the report quoted Tesla as saying in a Weibo post. A longtime darling brand in China, Tesla has recently run into product quality-related headaches in the country. In February, for instance, Chinese authorities summoned the company over complaints about safety issues. In April, a customer used the Auto Shanghai event to protest against an alleged braking problem on Tesla vehicles. (See Tesla stock chart on TipRanks). Goldman Sachs analyst Mark Delaney recently reaffirmed a Buy rating and a price target of $860 on Tesla stock. Delaney’s price target implies 28% upside potential. The analyst reiterated the bullish view after Tesla began delivering the Model S Plaid, an advanced version of the Model S that offers about a 400-mile driving range. Delaney noted that the car can achieve speeds of up to 200 MPH and accelerate from 0 to 60 MPH in under two seconds. Additionally, Tesla expects the Plaid to receive a leading NHTSA safety rating. \"While the market for the Plaid itself is relatively small, we believe it is an important product,” commented Delaney. One of the reasons the analyst believes the Plaid is important is that it shows Tesla’s technology leadership. Consensus among analysts is a Hold based on 10 Buys, 7 Holds, and 6 Sells. The average Tesla analyst price target of $632.10 implies 5.92% downside potential from current levels. TSLA scores an 8 out of 10 on TipRanks’ Smart',\n",
       "  '(Bloomberg) -- Tesla Inc.’s aspirations in China were dealt a major blow over the weekend after the government ordered that almost all the cars it’s sold in the nation -- more than 285,000 of them -- be fixed to address a safety issue. The State Administration for Market Regulation said in a statement on Saturday that the action involves 211,256 locally produced Model 3 vehicles and 35,665 imported ones, as well as 38,599 China-made Model Ys. The California-based carmaker only began deliveries of the Model Y sports-utility vehicle in January, so the recall will affect pretty much every driver who bought one. The Chinese agency said the vehicles’ autopilot systems can be activated automatically, potentially leading to crashes from sudden acceleration. In most cases, the fix should be able to be made remotely with an online update to the cars’ active cruise control feature. Tesla will upgrade the software for free. While Tesla apologized via its official customer support account on Weibo, saying that it will “continue to improve safety in strict accordance with national requirements,” the recall tops a string of embarrassing setbacks for the company in China. A protest that went viral at the Shanghai auto show in mid-April and a spate of crashes has soured public opinion toward the EV pioneer and a few local governments and official institutions are reviewing Tesla ownership among their staff, citing concerns the cars pose security risks. Read more: Tesla Dealt ‘Black Eye’ in Recall of Cars Sold in China In March, Teslas were banned from some military complexes and housing compounds because of worries about the of of in-built cameras. Tesla immediately moved to reassure authorities, saying any data collected in China is stored locally. That the required software fix impacts Tesla’s Model Y is especially unfortunate. The SUV crossover, which has a driving range of up to 594 kilometers (369 miles), was seen as enabling Tesla to target a much bigger customer base in the world’s biggest market for EVs and cars overall. Read more: Tesla China-Made Model Y Sales Jump as Bigger Cars Gain Traction Chief Executive Officer',\n",
       "  'The company Tesla (TSLA) booted from the S&P 500 index has vastly outperformed the electric automaker by a “stupendous margin,” analysts at Research Affiliates pointed out this week. Tesla entered the S&P 500 to great fanfare on Dec. 21, 2020, in a rebalance of the index. It surged well over 20% in its first month, but since then has fallen, standing now with gains of about 5%, lagging the S&P 500’s (^GSPC) near-16% gain in that same timeframe. Tesla’s entry meant one company had to leave, as the S&P 500 does not become the S&P 501 when a new company joins the club. To make room, S&P had to kick out Apartment Investment and Management (AIV) from the index, but since that December 2020 rebalance, the company’s stock spiked almost 60% — and though it went down still stands around 40% higher than it did when it got the boot. According to analysis from Research Affiliates\\' Rob Arnott, Vitali Kalesnik, and Lillian Wu, Apartment Investment and Management, this pattern is not uncommon. Frequently, additions to the index underperform and removed companies often do very well, the authors wrote in a research note. \"Traditional cap-weighted indices routinely buy high and sell low when the index rebalances resulting in substantial hidden costs to investors who track the index,” the note said. “The December 2020 S&P 500 rebalance out of AIV and into TSLA cost investors 41 [basis points] in the first six months, and the cost may go higher.” In their view, a struggling stock getting kicked out of the index during a rebalancing means getting the axe at a low point. On the other side, a hot new stock getting added to the index is trading at a high point. The authors pointed out that though index investing is passive, the actual indexes aren’t necessarily passive as the decisions on which companies to include in the S&P 500 is controlled by a committee. And the index changes to compensate for companies’ valuations and new entrants periodically, not automatically. An investor who had $100,000 in, say, an S&P 500 index fund on',\n",
       "  \"Tesla (TSLA) closed the most recent trading day at $680.76, moving -1.16% from the previous trading session. This change lagged the S&P 500's daily gain of 0.03%. Prior to today's trading, shares of the electric car maker had gained 10.16% over the past month. This has outpaced the Auto-Tires-Trucks sector's gain of 7.22% and the S&P 500's gain of 2.12% in that time. Wall Street will be looking for positivity from TSLA as it approaches its next earnings report date. In that report, analysts expect TSLA to post earnings of $0.89 per share. This would mark year-over-year growth of 102.27%. Our most recent consensus estimate is calling for quarterly revenue of $11.38 billion, up 88.57% from the year-ago period. Looking at the full year, our Zacks Consensus Estimates suggest analysts are expecting earnings of $4.32 per share and revenue of $49.39 billion. These totals would mark changes of +92.86% and +56.61%, respectively, from last year. Any recent changes to analyst estimates for TSLA should also be noted by investors. These revisions help to show the ever-changing nature of near-term business trends. As such, positive estimate revisions reflect analyst optimism about the company's business and profitability. Our research shows that these estimate changes are directly correlated with near-term stock prices. To benefit from this, we have developed the Zacks Rank, a proprietary model which takes these estimate changes into account and provides an actionable rating system. Ranging from #1 (Strong Buy) to #5 (Strong Sell), the Zacks Rank system has a proven, outside-audited track record of outperformance, with #1 stocks returning an average of +25% annually since 1988. The Zacks Consensus EPS estimate remained stagnant within the past month. TSLA is currently sporting a Zacks Rank of #3 (Hold). Valuation is also important, so investors should note that TSLA has a Forward P/E ratio of 159.32 right now. This represents a premium compared to its industry's average Forward P/E of 15.07. Meanwhile, TSLA's PEG ratio is currently 4.61. The PEG ratio is similar to the widely-used P/E ratio, but this metric also takes the company's expected earnings growth rate into account.\"],\n",
       " 'BTC': ['The five-year prison term for Russian Alexander Vinnik, convicted in France on money laundry charges, was upheld by the Court of Appeal of Paris on Thursday, according to a report by TASS. Vinnik, an alleged operator of the now-defunct cryptocurrency exchange BTC-e, was sentenced last December on the charge of money-laundering. Other charges, including “extortion, conspiracy and harming automatic data-processing systems,” were dropped at the time of sentencing. The U.S. Department of Justice named him as a mastermind behind one of the first cryptocurrency exchanges, BTC-e, and indicted him on allegations of “computer intrusions and hacking incidents, ransomware scams, identity theft schemes, corrupt public officials and narcotics distribution rings.” Vinnik was arrested in Greece in 2017 at the behest of the U.S., prompting a three-way battle amongst France, Russia and the U.S. for his extradition with France ultimately winning. According to TASS, Vinnik was successful in one aspect this week: The court exempted him from a fine of 100,000 euros (USD $119.4 million). Prosecutors had sought a reduction of the amount due to concerns that Vinnik could not pay it. Crypto ETPs of Four Firms Begin Trading on Euronext Paris and Amsterdam BTC-e Operator Vinnik Sentenced to 5 Years in Prison on Money Laundering Charges Thailand Is Prepping to Move Judicial System Records to a Blockchain French Judge Orders Trial of Alleged BTC-e Operator Alexander Vinnik Related Quotes Damaging a mirror was believed to invite the wrath of the gods in ancient cultures. Fairfax Media via Getty ImagesEvery human culture has superstitions. In some Asian societies people believe that sweeping a floor after sunset brings bad luck, and that it’s a curse to leave chopsticks standing in a bowl of rice. In the U.S., some people panic if they accidentally walk under a ladder or see a black cat cross their path. Also, many tall buildings don’t label their 13th floors as such because of th MOSCOW (Reuters) -A Russian appeals court on Monday upheld a nine-year prison sentence for Trevor Reed, a former U.S. Marine who was convicted last year of endangering the lives of two police officers in',\n",
       "  'As Bitcoin and other digital coins rise in popularity, so have the number of gripes with the largest cryptocurrency exchange in the U.S., according to a new study. Coinbase was the most complained-about crypto digital wallet in the Consumer Finance Protection Bureau’s complaint database, according to a study done by the U.S. Public Interest Research Group, with the volume of filings — albeit starting at a low level — accelerating this year.\\xa0 “Coinbase should be investigating consumer complaints in a timely manner, [and] it should be hiring staff to answer the phone,\" Ed Mierzwinski, senior director of the federal consumer program at U.S. Public Interest Research Group, told Yahoo Money. \"Consumers say it isn\\'t doing either.” Since November 2019 through December 2020, Coinbase received just seven \"mobile wallet\" complaints each year. But starting this year through April, consumers filed more than five times that average each month, hitting a high of 62 in March. The increase follows the meteoric rise in value of many digital coins.\\xa0\\xa0 Most complaints revolved around issues managing, opening, and closing individual mobile wallet accounts. According to U.S. PIRG, of the Coinbase complaints that included narratives, 25% referenced bitcoin, 6% noted ethereum, and 6% mentioned litecoin. Read more: Bitcoin and crypto: 14 terms you should know PIRG noted that many of the complaints claim issues when trying to retrieve money from the service. For instance, one person, who eventually received monetary relief, wrote that “Coinbase has my bitcoin stuck in a ‘vault’ unable to be accessed by me.” Another consumer wrote a similar complaint, saying “I have been trying to withdraw my coins out of the vault, but they are stuck.” A vault is a digital wallet that can receive cryptocurrency, but has optional security features that add additional verification steps to withdraw funds. You can add funds to your vault by sharing your vault address or by transferring from your wallet to your vault. Coinbase itself said it\\'s beefing up its customer support when contacted by Yahoo Money about the study. “In the past few months, we have quadrupled our capacity across our support team,',\n",
       "  '(Reuters) - Bitcoin dipped 8.51% to $31,699.83 at 22:04 GMT on Friday, losing $2,937.27 from its previous close. Bitcoin, the world\\'s biggest and best-known cryptocurrency, is up 14.3% from the year\\'s low of $27,734 on Jan. 4. Ether, the coin linked to the ethereum blockchain network, dropped 7.37 % to $1,843.07 on Friday, losing $146.56 from its previous close. (Reporting by Maria Ponnezhath in Bengaluru; Editing by Chris Reese) The 97-year-old told CNBC in an interview alongside Berkshire CEO and billionaire investor Warren Buffett that the United States should take a leaf out of China\\'s book and \"step in preemptively to stop speculation\".  Communist Party-ruled China \"did the right thing\" by reining in Ma, the founder of e-commerce giant Alibaba Group Holding, who has hardly been seen in public since he criticised regulators in a speech in October last year.  Alibaba was also hit with a record $2.75 billion antitrust penalty as China tightens controls on the booming “platform economy”. Two stocks are showing signs of potentially breaking out from the pack. Last Friday, Virgin Galactic Holdings (NYSE: SPCE) shares had a surprisingly strong reaction to news that regulators have cleared the way for the company to eventually begin flying passengers into space.  Virgin Galactic\\'s announcement on Friday that the Federal Aviation Administration (FAA) has approved the company for passenger space flights was certainly good news, but it was still somewhat surprising to see the stock jump 30% higher based on the announcement.  After all, while nothing is a given, FAA approval was assumed and expectations that Virgin Galactic was back on schedule after a series of setbacks was a big reason the stock had rallied 40% higher in May. Let’s step back and take a look at the big picture, while keeping stocks in focus. Both the S&P 500 and the Nasdaq hit a series of record highs -- mainly due to increasing investor confidence that the current inflationary environment will be a transitory event rather than a sustained trend. Clearly, investors are not shy about stocks, even though the Commerce Department’s inflation indicator for',\n",
       "  '(Bloomberg) -- Strategists are struggling to see a turnaround ahead for Bitcoin, at least for now, as the digital coin looks to consolidate above the $30,000 level. The near-term setup is “challenging,” a JPMorgan Chase & Co. team including Josh Younger and Veronica Mejia Bustamante wrote in a note Friday, while Fundstrat Global Advisors LLC’s David Grider recommended reducing risk or buying some protection. The JPMorgan team said blockchain data suggests recent cryptocurrency sales were made to cover losses and that “there is likely still an overhang of underwater positions which need to be cleared through the market.” Bitcoin has roughly halved from a peak near $65,000 in April, hurt by a cryptocurrency clampdown in China, tightening regulatory scrutiny elsewhere and concerns that the servers underpinning the virtual coin consume too much energy. The prospect of reduced emergency stimulus amid the recovery from the pandemic may also be an obstacle for the most speculative investments. Still, the JPMorgan strategists pointed to stability in the Bitcoin futures market as a positive factor, alongside the possibility of increased production costs as China’s crackdown pushes Bitcoin mining abroad. Some researchers argue the marginal production cost plays an important role in Bitcoin prices. So while the “cryptocurrency market shows signs that it is not yet healthy, it does also appear to be beginning the process of healing,” they wrote. The largest cryptocurrency rose as much as 6.5% to $33,329 on Sunday, snapping a two-day drop. Other coins rallied too, with Ether up more than 5%. Some chart watchers view the $30,000 level as key for Bitcoin, contending a decline below it could open the way to retreat to $20,000. Grider, lead digital asset strategist at Fundstrat, noted that a large short position has been building again on the crypto exchange Bitfinex -- and said the last time there was a similar situation, negative news out of China took prices lower. (Updates markets in the seventh paragraph.) More stories like this are available on bloomberg.com Subscribe now to stay ahead with the most trusted business news source. ©2021 Bloomberg L.P. It’s been a mixed start',\n",
       "  'What it takes to mine crypto coins and how feasible is it to make it a home enterprise  Cryptocurrencies were broadly higher on Tuesday morning, continuing to recover from an earlier slump, despite more regulatory action. Bitcoin (BTC-USD) was up 1.6%, trading at $35,249 ($25,433). Despite recovering from a sell off in which its price fell to below $30,000, it still remains far away from its all-time high of $63,000 from earlier in the year. Ethereum (ETH-USD), the world’s second largest cryptocurrency, was up 8%, trading at $2,158. Cryptos had slumped amid news of regulatory crackdown in China, but since then they have been rising steadily higher. They remain unfazed by news that Britain’s financial watchdog issued a warning to consumers that one of the world’s largest bitcoin exchanges is not permitted to undertake regulated activities in the UK. Over the weekend the Financial Conduct Authority (FCA) ordered Binance Markets to remove all advertising and financial promotions by 30 June. The FT reported that Binance customers are now not able to withdraw or deposit pounds using Faster Payments, one of the main UK payments systems. Binance said on its website the platform was suspended for maintenance \"The lack of access to Faster Payments represented a significant curb on UK clients’ abilities to move money from the exchange directly into their bank accounts,\" FT reported.\\xa0 Read more: Why the UK banned Binance and what it means for your crypto assets Mati Greenspan, CEO of Quantum Economics, clarified that Binance has not been banned from the UK, and the company is still free to offer spot crypto trading in the country. He said Britons are still free to buy, sell, and hold crypto on the platform but the FCA has issued an enforcement action against Binance for offering complex products where they shouldn\\'t have. “Investors see the crackdown as a sign that the crypto markets are maturing, and that the company will have to accelerate its process of becoming a regulated exchange, which will likely lead to increased trust among crypto traders,” said Naeem Aslam, chief market analyst at Ava Trade.',\n",
       "  'After China announced that it would begin ramping up its efforts to restrict the mining of cryptocurrency, the price of bitcoin (BTC-USD) fell to below $30,000 earlier this week, trading at a value not seen since the turn of the new year. The cryptocurrency has since rebounded slightly, now holding at a level just above $32,000. Though the news and subsequent crash may have caused short term headaches in the crypto market, China’s crackdown on mining may actually benefit crypto in the long run, according to some experts.\\xa0 “I think it\\'s actually fantastic news for the Bitcoin ecosystem,” Peter Smith, Blockchain.com co-founder and CEO, told Yahoo Finance Live. “You\\'re going to see a diversification of mining operations around the world. We\\'ve been seeing that trend over the last two years, as large mines are built in Europe, the U.S., and a variety of other geographic locations—but that trend is going to accelerate hard now.” Smith cited the growing concern of Bitcoin mining becoming too highly concentrated in mainland China as a reason for a positive outlook on the crackdown. He predicts that over the next three to four years, this will yield a net positive for crypto as mining firms sell off their bitcoin and move their operations overseas. Chinese mining firms have already begun planning to shift their businesses abroad, with companies eyeing countries ranging from the U.S. to Kazakhstan. According to Chris Zhu, owner of Chinese mining service platform INBTC, approximately 10% to 20% of miners in China have already initiated their move. \"We spent around ten days getting to Sichuan, only for operations to stop there too,\" Zhu told AFP. \"It\\'s going to be tough to continue here.\" As for what the implications of Beijing’s restrictions on mining will have in terms of Environmental, Social, and Governance (ESG), Smith believes there is not enough available information to make a judgement call. According to him, the “vast majority” of mining operations being built today are powered by some form of clean energy. “You\\'re going to see mining companies start to disclose where they\\'re getting their energy,” Smith added.',\n",
       "  \"Megabank Morgan Stanley has purchased 28,289 shares of Grayscale Bitcoin Trust through its Europe Opportunity Fund, according to a U.S. Securities and Exchange Commission filing. Morgan Stanley has been increasingly active in the cryptocurrency space in recent months to meet growing demand from its clients. In April, the firm allowed a handful of its funds to invest indirectly in bitcoin through cash-settled futures contracts and Grayscale’s Bitcoin Trust, including the Institutional Fund, Institutional Fund Trust, Insight Fund and Variable Insurance Fund. Each fund may invest up to 25% of its assets in bitcoin, according to earlier SEC filings. The Europe Opportunity Fund includes a mix of Europe-based companies in the technology and non-technology space, and other investments.\\xa0 Related: Bitcoin&#8217;s &#8216;Puell Multiple&#8217; Flashes Misleading Bullish Signal as China Bans Mining In March, Morgan Stanley debuted bitcoin investment fund products for high-net-worth clients and began recruiting for a cryptocurrency and blockchain lead analyst. Grayscale is owned by CoinDesk parent company Digital Currency Group. Bitcoin Gathers Upside Momentum, Faces Resistance Near $40K UK Court Orders Bitcoin.org to Remove White Paper Following Craig Wright Lawsuit Market Wrap: Cryptocurrencies Rise Despite Binance UK Warning Related Quotes CeeDee Lamb had 24 of the Cowboys’ 29 punt returns during his rookie season. There is no reason to believe that won’t continue this season despite his importance to the offense. Lamb continued to work as the team’s primary punt returner during the offseason program. “We made it clear when I hired John Fassel [as [more] Antitrust lawsuits against Facebook dismissed, banks to pay extra $2 billion in dividends, rise in Delta variant triggers U.K. travel restrictions, and other news to start your day. Cowboys legend Emmitt Smith joined First Lady Jill Biden to tour a vaccination site and encourage people to protect themselves from the coronavirus. Caterpillar, Charles Schwab, Applied Materials, FedEx, Square and Morgan Stanley lead this list of large investments into four in-demand sectors. Mobile-chip makers Qorvo, Cirrus Logic, Skyworks, and Broadcom are favorites of Barclays analyst Blayne Curtis as Apple's iPhone 13 launch looms. (Bloomberg) -- United Airlines Holdings Inc. is overhauling its fleet with\",\n",
       "  \"Don Vo, VBit Technologies CEO joins Yahoo Finance Live to discuss China's crypto crackdown, Elon Musk's crypto motives and what's next for Bitcoin. MYLES UDLAND: All right, welcome back to Yahoo Finance Live. On this program, we talk a lot about the price of Bitcoin and other major cryptocurrencies. But we do not discuss too often the process behind actually continuing to build the blockchain itself, the mining process that creates digital Bitcoin, digital Ether, so on, so forth. Joining us now to talk a little bit more about what the mining space is up to right now, the outlook for miners-- and we'll get into some of the environmental concerns as well-- is Don Vo. He's the CEO at VBit Technologies. Don, thanks so much for jumping on the show this morning. So let's start with-- let's actually start with what Elon Musk said a few weeks back, and it really started, from my vantage point, kind of outside the crypto space. One of the big internecine fights that I have seen which is, is crypto mining environmentally friendly or unfriendly? And as someone who is operating, you know, mining-- I guess outposting-- just kind of warehouses of a sort-- where do you come down on that issue? And how do you answer, I guess, that kind of question from folks that certainly have it for you? DON VO: Well, actually, what I see is I think Elon Musk is wrong, or maybe he's just setting up, like, a story for his front and his future endeavors into the Bitcoin mining space. But the truth-- the reality is most Bitcoin mining data centers are actually using renewable energy. Like VBit's data centers, we're using hydroelectric power. most of the mines in China, of course, there are some mines that are still using coal power, but a lot of them are using hydro, a lot of them are using solar energy, which are all renewables. And I will say right now, more than 50% of the Bitcoin mining energy that is being used is already green energy. BRIAN SOZZI: Don,\",\n",
       "  'The bitcoin (BTC-USD) believers remain firmly entrenched in their outlook for prices this year for the benchmark cryptocurrency despite the onset of another crypto winter. \"Though regulatory uncertainty in the U.S. and elsewhere remains, BTIG Strategy and FinTech [teams] see the long-term case for digital assets — the transformational power of blockchain, a store of value in an increasingly uncertain and inflation prone world — stronger than ever, and we reiterate our year-end 2021 price targets for bitcoin, $50,000, and Ether, $5,000 and would take advantage of the present weakness to add to core holdings,\" penned BTIG strategist Julian Emanuel in a new research note to clients.\\xa0 Reiterated calls such as this from BTIG are being well received by crypto watchers — at least in the short term — as some degree of stability has returned to the bitcoin market. Bitcoin prices rose more than 15% over the weekend. At $34,514 as of Monday late morning, bitcoin prices have gained about 5% in the past 24-hours.\\xa0 \"The bounce is “positive”…but since it has only taken bitcoin back into the middle of its range…it’s not necessarily “bullish,” said Miller Tabak Chief Markets Strategist Matt Maley. In other words, the crypto bulls have got to be relieved that bitcoin did not drop below the bottom end of its range, but the rally has not been enough to give them any signals that it will break out to the upside any time soon.\" To be sure, the stability in bitcoin prices is fragile at best. From the record highs of more than $63,000 in mid-April, bitcoin has shed nearly 50% (including a trip below the $30,000 level a week ago). The bitcoin downdraft has pressured shares of crypto exchange Coinbase (COIN) — the stock is down about 28% in the past three months. Driving the price lower for bitcoin have been a multitude of concerns. First, regulators in China continue their crack down on mining in the country. Two, negative tweets on the environmental impact of bitcoin mining from Tesla CEO Elon Musk haven\\'t helped bitcoin prices, either.\\xa0 And finally, a more hawkish',\n",
       "  'One of China’s longest-running cryptocurrency exchanges has shut its bitcoin business as it jumps in line with the country’s latest anti-crypto crackdowns. BTCChina, which was founded by Huang Xiaoyu and Yang Linke in 2011, said Thursday it had completely exited from business relating to bitcoin, the South China Morning Post reported. The company’s stake in Singapore-registered bitcoin exchange ZG.com was sold to a foundation in Dubai a little over a year ago, the report revealed. Related: A Reckoning for Binance and Other &#8216;Global&#8217; Exchanges In 2018, the exchange side of BTCC was acquired by an unidentified Hong Kong-based blockchain investment fund, but continued to operate as normal for investors outside of China’s great firewall. The closure represents the final nail in the coffin for the crypto trading side of BTCC’s operations. The company will pivot to blockchain uses outside of trading. See also: China’s Anti-Crypto Crackdown Is Different This Time The move comes as China ratchets up pressure against anything related to cryptocurrencies, including mining and trading, which it views as a threat to its sovereignty. Related: Huobi Reveals Countries Where It Has Halted Derivatives Trading While this is not the first time the exchange has had to deal with crypto-trading bans on the mainland, the renewed vigor from Beijing against those dealing with crypto is a vastly more concerning prospect this time around. Many argue the latest departure by crypto miners and their operations hints at a more sinister effect on the markets, at least in the short term, with those either forced to leave or toe the line of the country’s latest anti-crypto narrative. Coinbase Receives Crypto Custody License From German Regulator BaFin Is China Opting Out of Crypto? Feat. Dovey Wan Related Quotes In a single weekend, Binance ran into warnings, bans, and other obstacles in Japan, the UK and Canada—part of a wider regulatory crackdown on crypto around the world. The Toronto-based firm said it expects the figure of 3,806 to grow to around 5,000 by year\\'s end. Hut 8 Mining Corp. (Nasdaq: HUT) (TSX: HUT) (\"Hut 8\" or the \"Company\"), one of North America\\'s largest,']}"
      ]
     },
     "execution_count": 27,
     "metadata": {},
     "output_type": "execute_result"
    }
   ],
   "source": [
    "articles = {ticker:scrape_and_process(cleaned_urls[ticker]) for ticker in monitored_tickers}\n",
    "articles"
   ]
  },
  {
   "cell_type": "code",
   "execution_count": 28,
   "metadata": {},
   "outputs": [
    {
     "data": {
      "text/plain": [
       "'(For a Reuters live blog on U.S., UK and European stock markets, click LIVE/ or type LIVE/ in a news window.) * Tesla rallies after opening solar charging station * Retail darlings Alfi, Torchlight extend declines (Updates with details at end of session) By Noel Randewich and Devik Jain June 23 (Reuters) - The Nasdaq climbed to a record-high close on Wednesday, fueled by a rally in Tesla Inc, with investors cheering data that showed a record peak for U.S. factory activity in June. Gains in Nvidia Corp and Facebook Inc extended a recent rebound in top-shelf growth stocks that fell out of favor in recent months as investors focused on companies expected to do well as the economy recovers from the pandemic. Data firm IHS Markit said its flash U.S. manufacturing Purchasing Managers\\' Index rose to a reading of 62.6 this month, beating estimates of 61.5, but manufacturers are still struggling to secure raw materials and qualified workers, substantially raising prices. The \"high level of today\\'s surveys will provide some confirmation for the Fed that the time to begin taking its foot off the accelerator is not far away,\" said Jai Malhi, global market strategist at J.P. Morgan Asset Management. On Tuesday, Fed Chair Jerome Powell reaffirmed the central bank\\'s intent not to raise interest rates too quickly, based only on the fear of coming inflation. Powell\\'s comments follow the Fed\\'s projection a week ago of an increase in interest rates as soon as 2023, sooner than anticipated. Since then, growth stocks, including major tech names like Tesla and Nvidia, have mostly rallied and outperformed value stocks, like banks and materials companies. \"People are plowing money into what has worked. People are basically momentum-chasing and they\\'re using the last three years of performance to figure out what to chase,\" said Mike Zigmont, head of trading and research at Harvest Volatility Management in New York. Around half of the 11 major S&P sector indexes rose, with consumer discretionary among the top gainers. Tesla jumped after the electric vehicle maker said it had opened a solar-powered charging station with on-site power'"
      ]
     },
     "execution_count": 28,
     "metadata": {},
     "output_type": "execute_result"
    }
   ],
   "source": [
    "articles['TSLA'][2]"
   ]
  },
  {
   "cell_type": "code",
   "execution_count": 29,
   "metadata": {},
   "outputs": [],
   "source": [
    "# Summarise all articles by NLP model\n",
    "def summarize(articles):\n",
    "    summaries = []\n",
    "    for article in articles:\n",
    "        input_ids = tokenizer.encode(article, return_tensors='pt')\n",
    "        output = model.generate(input_ids, max_length=55, num_beams=5, early_stopping=True)\n",
    "        summary = tokenizer.decode(output[0], skip_special_tokens=True)\n",
    "        summaries.append(summary)\n",
    "    return summaries"
   ]
  },
  {
   "cell_type": "code",
   "execution_count": 30,
   "metadata": {
    "collapsed": true
   },
   "outputs": [
    {
     "data": {
      "text/plain": [
       "{'GME': ['‘It’s the intersection of social media and finance,’ Ohanian says. Reddit co-founder leads $4 million investment in sports betting startup Wagr',\n",
       "  'Video game retailer moved to Russell 1000 index while AMC stayed in Russell 2000.',\n",
       "  'GME stock is trading at a forward price-to-sales multiple of over three. Shopify is Canada’s largest company in terms of market cap',\n",
       "  'GameStop completed previously ‘at-the-market’ equity offering. Net proceeds from ATM Offering to be used for general corporate purposes',\n",
       "  'Implied volatility is high for the Jul 16, 2021 Put. Options with high levels of implied volatility suggest there is a trade developing.',\n",
       "  'AMC and GameStop may be removed from Russell 2000 index. Preliminary ranking for Russell 1000 announced on May 7',\n",
       "  'Retail investors used forum WallStreetBets to coordinate short-selling bets.',\n",
       "  'Shares of the video game retailer have surged over the past year. Even though some analysts believe the recent rally is speculation, I can see a scenario',\n",
       "  'Video game retailer says it may sell as many as 5 million shares.',\n",
       "  'Video games retailer has been struggling for years. Cohen’s vision is to transform the business'],\n",
       " 'TSLA': ['Guillen left Tesla earlier in June. Departure of one of its top four leaders has sparked market concerns',\n",
       "  'Shares are up 8.7%, near a four-month high, on volume of 310,000 calls.',\n",
       "  'Tesla rallies after opening solar charging station. Retail darlings Alfi, Torchlight extend declines',\n",
       "  'Analysts cut EPS estimates by 11% and 10% for 2021 and 2022.',\n",
       "  'Carmaker has been diversifying its battery supply chain. The sale comes as Panasonic seeks to reduce dependence on Tesla',\n",
       "  'Boeing told it is not yet ready for significant certification step. Tesla to virtually ‘recall’ nearly 300,000 Model 3 and Y cars',\n",
       "  'Regulator in China calls it a product recall. Tesla has recently run into product quality-related headaches',\n",
       "  'Almost all the carmaker’s Model 3, Model Ys to be recalled. Tesla says it will continue to improve safety',\n",
       "  '‘Traditional cap-weighted indices routinely buy high and sell low,’ Research says. Tesla has lagged the S&P 500 since December 2020 rebalance',\n",
       "  'Tesla is underperforming the Auto-Tires-Trucks sector so far this year.'],\n",
       " 'BTC': ['Vinnik had been sentenced last December on money-laundering charges. He was arrested in Greece in 2017 at the behest of U.S.',\n",
       "  'Complaint volume more than five times average each month. Coinbase says it’s beefing up its support team',\n",
       "  'Alibaba founder Jack Ma says U.S. should follow China’s lead.',\n",
       "  'Fundstrat recommends reducing risk or buying some protection. Bitcoin has roughly halved from a peak near $65,000 in April',\n",
       "  'Quantum not banned for regulated activities, CEO says. Bitcoin is up 1.6%, Ethereum up 8% on Tuesday',\n",
       "  'Peter Smith sees ‘fantastic news’ for Bitcoin ecosystem. Beijing’s crackdown will see miners move overseas',\n",
       "  'Europe Opportunity Fund bought the shares. Grayscale is owned by CoinDesk Digital Currency Group.',\n",
       "  \"Don Vo, VBit Technologies CEO, talks about China's crackdown on crypto.\",\n",
       "  'BTIG reiterates year-end 2021 price targets for Bitcoin, Ether. Rally is ‘not necessarily ‘bullish,’ says Miller Tabak',\n",
       "  'BTCC to pivot to blockchain use outside of trading. China has been ratcheting up pressure on crypto-related activity']}"
      ]
     },
     "execution_count": 30,
     "metadata": {},
     "output_type": "execute_result"
    }
   ],
   "source": [
    "summaries = {ticker:summarize(articles[ticker]) for ticker in monitored_tickers}\n",
    "summaries"
   ]
  },
  {
   "cell_type": "code",
   "execution_count": 31,
   "metadata": {},
   "outputs": [
    {
     "data": {
      "text/plain": [
       "['Vinnik had been sentenced last December on money-laundering charges. He was arrested in Greece in 2017 at the behest of U.S.',\n",
       " 'Complaint volume more than five times average each month. Coinbase says it’s beefing up its support team',\n",
       " 'Alibaba founder Jack Ma says U.S. should follow China’s lead.',\n",
       " 'Fundstrat recommends reducing risk or buying some protection. Bitcoin has roughly halved from a peak near $65,000 in April',\n",
       " 'Quantum not banned for regulated activities, CEO says. Bitcoin is up 1.6%, Ethereum up 8% on Tuesday',\n",
       " 'Peter Smith sees ‘fantastic news’ for Bitcoin ecosystem. Beijing’s crackdown will see miners move overseas',\n",
       " 'Europe Opportunity Fund bought the shares. Grayscale is owned by CoinDesk Digital Currency Group.',\n",
       " \"Don Vo, VBit Technologies CEO, talks about China's crackdown on crypto.\",\n",
       " 'BTIG reiterates year-end 2021 price targets for Bitcoin, Ether. Rally is ‘not necessarily ‘bullish,’ says Miller Tabak',\n",
       " 'BTCC to pivot to blockchain use outside of trading. China has been ratcheting up pressure on crypto-related activity']"
      ]
     },
     "execution_count": 31,
     "metadata": {},
     "output_type": "execute_result"
    }
   ],
   "source": [
    "summaries['BTC']"
   ]
  },
  {
   "cell_type": "code",
   "execution_count": 32,
   "metadata": {
    "collapsed": true
   },
   "outputs": [
    {
     "data": {
      "application/vnd.jupyter.widget-view+json": {
       "model_id": "b7cde350e76e453badb60a51897f891a",
       "version_major": 2,
       "version_minor": 0
      },
      "text/plain": [
       "Downloading:   0%|          | 0.00/629 [00:00<?, ?B/s]"
      ]
     },
     "metadata": {},
     "output_type": "display_data"
    },
    {
     "data": {
      "application/vnd.jupyter.widget-view+json": {
       "model_id": "a7e739a1a22c48b99d38496435bee7c6",
       "version_major": 2,
       "version_minor": 0
      },
      "text/plain": [
       "Downloading:   0%|          | 0.00/268M [00:00<?, ?B/s]"
      ]
     },
     "metadata": {},
     "output_type": "display_data"
    },
    {
     "data": {
      "application/vnd.jupyter.widget-view+json": {
       "model_id": "7b1b1f22313d497f939eceaf6691f276",
       "version_major": 2,
       "version_minor": 0
      },
      "text/plain": [
       "Downloading:   0%|          | 0.00/232k [00:00<?, ?B/s]"
      ]
     },
     "metadata": {},
     "output_type": "display_data"
    },
    {
     "data": {
      "application/vnd.jupyter.widget-view+json": {
       "model_id": "7e75cd042d8f4ed9bc2076079ad56969",
       "version_major": 2,
       "version_minor": 0
      },
      "text/plain": [
       "Downloading:   0%|          | 0.00/48.0 [00:00<?, ?B/s]"
      ]
     },
     "metadata": {},
     "output_type": "display_data"
    }
   ],
   "source": [
    "# Perfrom sentiment analysis\n",
    "from transformers import pipeline\n",
    "sentiment = pipeline('sentiment-analysis')"
   ]
  },
  {
   "cell_type": "code",
   "execution_count": 33,
   "metadata": {},
   "outputs": [
    {
     "data": {
      "text/plain": [
       "[{'label': 'NEGATIVE', 'score': 0.9611397981643677},\n",
       " {'label': 'NEGATIVE', 'score': 0.6672735810279846},\n",
       " {'label': 'NEGATIVE', 'score': 0.5721613764762878},\n",
       " {'label': 'NEGATIVE', 'score': 0.9974943399429321},\n",
       " {'label': 'NEGATIVE', 'score': 0.9271972179412842},\n",
       " {'label': 'POSITIVE', 'score': 0.9988064169883728},\n",
       " {'label': 'NEGATIVE', 'score': 0.9742448329925537},\n",
       " {'label': 'POSITIVE', 'score': 0.9794243574142456},\n",
       " {'label': 'NEGATIVE', 'score': 0.9942106604576111},\n",
       " {'label': 'NEGATIVE', 'score': 0.992952287197113}]"
      ]
     },
     "execution_count": 33,
     "metadata": {},
     "output_type": "execute_result"
    }
   ],
   "source": [
    "sentiment(summaries['BTC'])"
   ]
  },
  {
   "cell_type": "code",
   "execution_count": 34,
   "metadata": {},
   "outputs": [
    {
     "data": {
      "text/plain": [
       "{'GME': [{'label': 'POSITIVE', 'score': 0.9224709868431091},\n",
       "  {'label': 'NEGATIVE', 'score': 0.9849210381507874},\n",
       "  {'label': 'POSITIVE', 'score': 0.9898219704627991},\n",
       "  {'label': 'NEGATIVE', 'score': 0.993374228477478},\n",
       "  {'label': 'NEGATIVE', 'score': 0.9728610515594482},\n",
       "  {'label': 'NEGATIVE', 'score': 0.9982779026031494},\n",
       "  {'label': 'NEGATIVE', 'score': 0.9912553429603577},\n",
       "  {'label': 'POSITIVE', 'score': 0.9866163730621338},\n",
       "  {'label': 'NEGATIVE', 'score': 0.9856416583061218},\n",
       "  {'label': 'POSITIVE', 'score': 0.9879394173622131}],\n",
       " 'TSLA': [{'label': 'NEGATIVE', 'score': 0.964103102684021},\n",
       "  {'label': 'POSITIVE', 'score': 0.5628847479820251},\n",
       "  {'label': 'NEGATIVE', 'score': 0.9795437455177307},\n",
       "  {'label': 'NEGATIVE', 'score': 0.993100106716156},\n",
       "  {'label': 'NEGATIVE', 'score': 0.9913976192474365},\n",
       "  {'label': 'NEGATIVE', 'score': 0.9942201972007751},\n",
       "  {'label': 'NEGATIVE', 'score': 0.9990779161453247},\n",
       "  {'label': 'POSITIVE', 'score': 0.9851698875427246},\n",
       "  {'label': 'NEGATIVE', 'score': 0.9991035461425781},\n",
       "  {'label': 'NEGATIVE', 'score': 0.9593161344528198}],\n",
       " 'BTC': [{'label': 'NEGATIVE', 'score': 0.9611397981643677},\n",
       "  {'label': 'NEGATIVE', 'score': 0.6672735810279846},\n",
       "  {'label': 'NEGATIVE', 'score': 0.5721613764762878},\n",
       "  {'label': 'NEGATIVE', 'score': 0.9974943399429321},\n",
       "  {'label': 'NEGATIVE', 'score': 0.9271972179412842},\n",
       "  {'label': 'POSITIVE', 'score': 0.9988064169883728},\n",
       "  {'label': 'NEGATIVE', 'score': 0.9742448329925537},\n",
       "  {'label': 'POSITIVE', 'score': 0.9794243574142456},\n",
       "  {'label': 'NEGATIVE', 'score': 0.9942106604576111},\n",
       "  {'label': 'NEGATIVE', 'score': 0.992952287197113}]}"
      ]
     },
     "execution_count": 34,
     "metadata": {},
     "output_type": "execute_result"
    }
   ],
   "source": [
    "scores = {ticker:sentiment(summaries[ticker]) for ticker in monitored_tickers}\n",
    "scores"
   ]
  },
  {
   "cell_type": "code",
   "execution_count": 35,
   "metadata": {},
   "outputs": [
    {
     "name": "stdout",
     "output_type": "stream",
     "text": [
      "GameStop completed previously ‘at-the-market’ equity offering. Net proceeds from ATM Offering to be used for general corporate purposes NEGATIVE 0.993374228477478\n"
     ]
    }
   ],
   "source": [
    "print(summaries['GME'][3], scores['GME'][3]['label'], scores['GME'][3]['score'])"
   ]
  },
  {
   "cell_type": "code",
   "execution_count": 36,
   "metadata": {},
   "outputs": [
    {
     "data": {
      "text/plain": [
       "0.9611397981643677"
      ]
     },
     "execution_count": 36,
     "metadata": {},
     "output_type": "execute_result"
    }
   ],
   "source": [
    "scores['BTC'][0]['score']"
   ]
  },
  {
   "cell_type": "code",
   "execution_count": 37,
   "metadata": {},
   "outputs": [
    {
     "data": {
      "text/plain": [
       "range(0, 10)"
      ]
     },
     "execution_count": 37,
     "metadata": {},
     "output_type": "execute_result"
    }
   ],
   "source": [
    "range(len(summaries['GME']))"
   ]
  },
  {
   "cell_type": "code",
   "execution_count": 38,
   "metadata": {},
   "outputs": [
    {
     "data": {
      "text/plain": [
       "'GameStop completed previously ‘at-the-market’ equity offering. Net proceeds from ATM Offering to be used for general corporate purposes'"
      ]
     },
     "execution_count": 38,
     "metadata": {},
     "output_type": "execute_result"
    }
   ],
   "source": [
    "summaries['GME'][3]"
   ]
  },
  {
   "cell_type": "code",
   "execution_count": 39,
   "metadata": {},
   "outputs": [],
   "source": [
    "def create_output_array(summaries, scores, urls):\n",
    "    output = []\n",
    "    for ticker in monitored_tickers:\n",
    "        for counter in range(len(summaries[ticker])):\n",
    "            output_this = [\n",
    "                ticker,\n",
    "                summaries[ticker][counter],\n",
    "                scores[ticker][counter]['label'],\n",
    "                scores[ticker][counter]['score'],\n",
    "                urls[ticker][counter]\n",
    "            ]\n",
    "            output.append(output_this)\n",
    "    return output"
   ]
  },
  {
   "cell_type": "code",
   "execution_count": 40,
   "metadata": {},
   "outputs": [
    {
     "data": {
      "text/plain": [
       "[['GME',\n",
       "  '‘It’s the intersection of social media and finance,’ Ohanian says. Reddit co-founder leads $4 million investment in sports betting startup Wagr',\n",
       "  'POSITIVE',\n",
       "  0.9224709868431091,\n",
       "  'https://finance.yahoo.com/news/meme-stocks-show-that-community-is-profitable-reddit-co-founder-173909883.html'],\n",
       " ['GME',\n",
       "  'Video game retailer moved to Russell 1000 index while AMC stayed in Russell 2000.',\n",
       "  'NEGATIVE',\n",
       "  0.9849210381507874,\n",
       "  'https://finance.yahoo.com/news/gamestop-amc-slip-russell-index-063837020.html'],\n",
       " ['GME',\n",
       "  'GME stock is trading at a forward price-to-sales multiple of over three. Shopify is Canada’s largest company in terms of market cap',\n",
       "  'POSITIVE',\n",
       "  0.9898219704627991,\n",
       "  'https://ca.finance.yahoo.com/news/forget-gme-stock-consider-shopify-181532573.html'],\n",
       " ['GME',\n",
       "  'GameStop completed previously ‘at-the-market’ equity offering. Net proceeds from ATM Offering to be used for general corporate purposes',\n",
       "  'NEGATIVE',\n",
       "  0.993374228477478,\n",
       "  'https://finance.yahoo.com/news/gamestop-completes-market-equity-offering-104500035.html'],\n",
       " ['GME',\n",
       "  'Implied volatility is high for the Jul 16, 2021 Put. Options with high levels of implied volatility suggest there is a trade developing.',\n",
       "  'NEGATIVE',\n",
       "  0.9728610515594482,\n",
       "  'https://finance.yahoo.com/news/options-market-predicting-spike-gamestop-125312793.html'],\n",
       " ['GME',\n",
       "  'AMC and GameStop may be removed from Russell 2000 index. Preliminary ranking for Russell 1000 announced on May 7',\n",
       "  'NEGATIVE',\n",
       "  0.9982779026031494,\n",
       "  'https://finance.yahoo.com/news/tell-whether-amc-gamestop-russell-120012129.html'],\n",
       " ['GME',\n",
       "  'Retail investors used forum WallStreetBets to coordinate short-selling bets.',\n",
       "  'NEGATIVE',\n",
       "  0.9912553429603577,\n",
       "  'https://finance.yahoo.com/news/forget-amc-gamestop-10-stocks-205845496.html'],\n",
       " ['GME',\n",
       "  'Shares of the video game retailer have surged over the past year. Even though some analysts believe the recent rally is speculation, I can see a scenario',\n",
       "  'POSITIVE',\n",
       "  0.9866163730621338,\n",
       "  'https://uk.finance.yahoo.com/news/gamestop-gme-share-price-keep-114619031.html'],\n",
       " ['GME',\n",
       "  'Video game retailer says it may sell as many as 5 million shares.',\n",
       "  'NEGATIVE',\n",
       "  0.9856416583061218,\n",
       "  'https://finance.yahoo.com/video/ryan-cohen-elon-musk-goofballs-153407421.html'],\n",
       " ['GME',\n",
       "  'Video games retailer has been struggling for years. Cohen’s vision is to transform the business',\n",
       "  'POSITIVE',\n",
       "  0.9879394173622131,\n",
       "  'https://uk.finance.yahoo.com/news/happening-gamestop-gme-share-price-103815992.html'],\n",
       " ['TSLA',\n",
       "  'Guillen left Tesla earlier in June. Departure of one of its top four leaders has sparked market concerns',\n",
       "  'NEGATIVE',\n",
       "  0.964103102684021,\n",
       "  'https://finance.yahoo.com/news/ex-tesla-president-sold-stocks-000304336.html'],\n",
       " ['TSLA',\n",
       "  'Shares are up 8.7%, near a four-month high, on volume of 310,000 calls.',\n",
       "  'POSITIVE',\n",
       "  0.5628847479820251,\n",
       "  'https://finance.yahoo.com/news/options-traders-speculate-surging-tesla-164020937.html'],\n",
       " ['TSLA',\n",
       "  'Tesla rallies after opening solar charging station. Retail darlings Alfi, Torchlight extend declines',\n",
       "  'NEGATIVE',\n",
       "  0.9795437455177307,\n",
       "  'https://finance.yahoo.com/news/us-stocks-tesla-lifts-nasdaq-200044999.html'],\n",
       " ['TSLA',\n",
       "  'Analysts cut EPS estimates by 11% and 10% for 2021 and 2022.',\n",
       "  'NEGATIVE',\n",
       "  0.993100106716156,\n",
       "  'https://finance.yahoo.com/news/tesla-is-being-attacked-by-rivals-and-now-its-stock-price-is-at-risk-ubs-171833145.html'],\n",
       " ['TSLA',\n",
       "  'Carmaker has been diversifying its battery supply chain. The sale comes as Panasonic seeks to reduce dependence on Tesla',\n",
       "  'NEGATIVE',\n",
       "  0.9913976192474365,\n",
       "  'https://finance.yahoo.com/news/panasonic-sold-entire-stake-tesla-232731962.html'],\n",
       " ['TSLA',\n",
       "  'Boeing told it is not yet ready for significant certification step. Tesla to virtually ‘recall’ nearly 300,000 Model 3 and Y cars',\n",
       "  'NEGATIVE',\n",
       "  0.9942201972007751,\n",
       "  'https://finance.yahoo.com/news/boeing-tesla-johnson-johnson-fall-080631408.html'],\n",
       " ['TSLA',\n",
       "  'Regulator in China calls it a product recall. Tesla has recently run into product quality-related headaches',\n",
       "  'NEGATIVE',\n",
       "  0.9990779161453247,\n",
       "  'https://finance.yahoo.com/news/tesla-fixes-vehicle-safety-issue-085313833.html'],\n",
       " ['TSLA',\n",
       "  'Almost all the carmaker’s Model 3, Model Ys to be recalled. Tesla says it will continue to improve safety',\n",
       "  'POSITIVE',\n",
       "  0.9851698875427246,\n",
       "  'https://finance.yahoo.com/news/tesla-dealt-big-blow-almost-210000618.html'],\n",
       " ['TSLA',\n",
       "  '‘Traditional cap-weighted indices routinely buy high and sell low,’ Research says. Tesla has lagged the S&P 500 since December 2020 rebalance',\n",
       "  'NEGATIVE',\n",
       "  0.9991035461425781,\n",
       "  'https://finance.yahoo.com/news/the-company-tesla-booted-from-the-sp-500-is-outperforming-it-over-50-202435898.html'],\n",
       " ['TSLA',\n",
       "  'Tesla is underperforming the Auto-Tires-Trucks sector so far this year.',\n",
       "  'NEGATIVE',\n",
       "  0.9593161344528198,\n",
       "  'https://finance.yahoo.com/news/tesla-tsla-stock-sinks-market-214509160.html'],\n",
       " ['BTC',\n",
       "  'Vinnik had been sentenced last December on money-laundering charges. He was arrested in Greece in 2017 at the behest of U.S.',\n",
       "  'NEGATIVE',\n",
       "  0.9611397981643677,\n",
       "  'https://finance.yahoo.com/news/btc-e-operator-vinnik-five-173707861.html'],\n",
       " ['BTC',\n",
       "  'Complaint volume more than five times average each month. Coinbase says it’s beefing up its support team',\n",
       "  'NEGATIVE',\n",
       "  0.6672735810279846,\n",
       "  'https://finance.yahoo.com/news/coinbase-complaints-jump-as-bitcoin-and-crypto-interest-soars-183140248.html'],\n",
       " ['BTC',\n",
       "  'Alibaba founder Jack Ma says U.S. should follow China’s lead.',\n",
       "  'NEGATIVE',\n",
       "  0.5721613764762878,\n",
       "  'https://finance.yahoo.com/news/bitcoin-falls-8-5-31-222341377.html'],\n",
       " ['BTC',\n",
       "  'Fundstrat recommends reducing risk or buying some protection. Bitcoin has roughly halved from a peak near $65,000 in April',\n",
       "  'NEGATIVE',\n",
       "  0.9974943399429321,\n",
       "  'https://finance.yahoo.com/news/bitcoin-slips-toward-30-000-082337409.html'],\n",
       " ['BTC',\n",
       "  'Quantum not banned for regulated activities, CEO says. Bitcoin is up 1.6%, Ethereum up 8% on Tuesday',\n",
       "  'NEGATIVE',\n",
       "  0.9271972179412842,\n",
       "  'https://uk.finance.yahoo.com/news/crypto-update-bitcoin-price-ethereum-binance-29-june-080250617.html'],\n",
       " ['BTC',\n",
       "  'Peter Smith sees ‘fantastic news’ for Bitcoin ecosystem. Beijing’s crackdown will see miners move overseas',\n",
       "  'POSITIVE',\n",
       "  0.9988064169883728,\n",
       "  'https://finance.yahoo.com/news/china-bitcoin-crackdown-fantastic-news-for-bitcoin-blockchaincom-ceo-171135200.html'],\n",
       " ['BTC',\n",
       "  'Europe Opportunity Fund bought the shares. Grayscale is owned by CoinDesk Digital Currency Group.',\n",
       "  'NEGATIVE',\n",
       "  0.9742448329925537,\n",
       "  'https://finance.yahoo.com/news/morgan-stanley-buys-over-28-010916941.html'],\n",
       " ['BTC',\n",
       "  \"Don Vo, VBit Technologies CEO, talks about China's crackdown on crypto.\",\n",
       "  'POSITIVE',\n",
       "  0.9794243574142456,\n",
       "  'https://finance.yahoo.com/video/china-crackdown-bitcoin-giving-u-140953667.html'],\n",
       " ['BTC',\n",
       "  'BTIG reiterates year-end 2021 price targets for Bitcoin, Ether. Rally is ‘not necessarily ‘bullish,’ says Miller Tabak',\n",
       "  'NEGATIVE',\n",
       "  0.9942106604576111,\n",
       "  'https://finance.yahoo.com/news/bitcoin-price-crash-doesnt-mean-50000-level-cant-happen-this-year-strategist-160330395.html'],\n",
       " ['BTC',\n",
       "  'BTCC to pivot to blockchain use outside of trading. China has been ratcheting up pressure on crypto-related activity',\n",
       "  'NEGATIVE',\n",
       "  0.992952287197113,\n",
       "  'https://finance.yahoo.com/news/china-longest-running-crypto-exchange-072828465.html']]"
      ]
     },
     "execution_count": 40,
     "metadata": {},
     "output_type": "execute_result"
    }
   ],
   "source": [
    "final_output = create_output_array(summaries, scores, cleaned_urls)\n",
    "final_output"
   ]
  },
  {
   "cell_type": "code",
   "execution_count": 41,
   "metadata": {},
   "outputs": [],
   "source": [
    "final_output.insert(0, ['Ticker', 'Summary', 'Label', 'Confidence', 'URL'])"
   ]
  },
  {
   "cell_type": "code",
   "execution_count": 42,
   "metadata": {
    "collapsed": true
   },
   "outputs": [
    {
     "data": {
      "text/plain": [
       "[['Ticker', 'Summary', 'Label', 'Confidence', 'URL'],\n",
       " ['GME',\n",
       "  '‘It’s the intersection of social media and finance,’ Ohanian says. Reddit co-founder leads $4 million investment in sports betting startup Wagr',\n",
       "  'POSITIVE',\n",
       "  0.9224709868431091,\n",
       "  'https://finance.yahoo.com/news/meme-stocks-show-that-community-is-profitable-reddit-co-founder-173909883.html'],\n",
       " ['GME',\n",
       "  'Video game retailer moved to Russell 1000 index while AMC stayed in Russell 2000.',\n",
       "  'NEGATIVE',\n",
       "  0.9849210381507874,\n",
       "  'https://finance.yahoo.com/news/gamestop-amc-slip-russell-index-063837020.html'],\n",
       " ['GME',\n",
       "  'GME stock is trading at a forward price-to-sales multiple of over three. Shopify is Canada’s largest company in terms of market cap',\n",
       "  'POSITIVE',\n",
       "  0.9898219704627991,\n",
       "  'https://ca.finance.yahoo.com/news/forget-gme-stock-consider-shopify-181532573.html'],\n",
       " ['GME',\n",
       "  'GameStop completed previously ‘at-the-market’ equity offering. Net proceeds from ATM Offering to be used for general corporate purposes',\n",
       "  'NEGATIVE',\n",
       "  0.993374228477478,\n",
       "  'https://finance.yahoo.com/news/gamestop-completes-market-equity-offering-104500035.html'],\n",
       " ['GME',\n",
       "  'Implied volatility is high for the Jul 16, 2021 Put. Options with high levels of implied volatility suggest there is a trade developing.',\n",
       "  'NEGATIVE',\n",
       "  0.9728610515594482,\n",
       "  'https://finance.yahoo.com/news/options-market-predicting-spike-gamestop-125312793.html'],\n",
       " ['GME',\n",
       "  'AMC and GameStop may be removed from Russell 2000 index. Preliminary ranking for Russell 1000 announced on May 7',\n",
       "  'NEGATIVE',\n",
       "  0.9982779026031494,\n",
       "  'https://finance.yahoo.com/news/tell-whether-amc-gamestop-russell-120012129.html'],\n",
       " ['GME',\n",
       "  'Retail investors used forum WallStreetBets to coordinate short-selling bets.',\n",
       "  'NEGATIVE',\n",
       "  0.9912553429603577,\n",
       "  'https://finance.yahoo.com/news/forget-amc-gamestop-10-stocks-205845496.html'],\n",
       " ['GME',\n",
       "  'Shares of the video game retailer have surged over the past year. Even though some analysts believe the recent rally is speculation, I can see a scenario',\n",
       "  'POSITIVE',\n",
       "  0.9866163730621338,\n",
       "  'https://uk.finance.yahoo.com/news/gamestop-gme-share-price-keep-114619031.html'],\n",
       " ['GME',\n",
       "  'Video game retailer says it may sell as many as 5 million shares.',\n",
       "  'NEGATIVE',\n",
       "  0.9856416583061218,\n",
       "  'https://finance.yahoo.com/video/ryan-cohen-elon-musk-goofballs-153407421.html'],\n",
       " ['GME',\n",
       "  'Video games retailer has been struggling for years. Cohen’s vision is to transform the business',\n",
       "  'POSITIVE',\n",
       "  0.9879394173622131,\n",
       "  'https://uk.finance.yahoo.com/news/happening-gamestop-gme-share-price-103815992.html'],\n",
       " ['TSLA',\n",
       "  'Guillen left Tesla earlier in June. Departure of one of its top four leaders has sparked market concerns',\n",
       "  'NEGATIVE',\n",
       "  0.964103102684021,\n",
       "  'https://finance.yahoo.com/news/ex-tesla-president-sold-stocks-000304336.html'],\n",
       " ['TSLA',\n",
       "  'Shares are up 8.7%, near a four-month high, on volume of 310,000 calls.',\n",
       "  'POSITIVE',\n",
       "  0.5628847479820251,\n",
       "  'https://finance.yahoo.com/news/options-traders-speculate-surging-tesla-164020937.html'],\n",
       " ['TSLA',\n",
       "  'Tesla rallies after opening solar charging station. Retail darlings Alfi, Torchlight extend declines',\n",
       "  'NEGATIVE',\n",
       "  0.9795437455177307,\n",
       "  'https://finance.yahoo.com/news/us-stocks-tesla-lifts-nasdaq-200044999.html'],\n",
       " ['TSLA',\n",
       "  'Analysts cut EPS estimates by 11% and 10% for 2021 and 2022.',\n",
       "  'NEGATIVE',\n",
       "  0.993100106716156,\n",
       "  'https://finance.yahoo.com/news/tesla-is-being-attacked-by-rivals-and-now-its-stock-price-is-at-risk-ubs-171833145.html'],\n",
       " ['TSLA',\n",
       "  'Carmaker has been diversifying its battery supply chain. The sale comes as Panasonic seeks to reduce dependence on Tesla',\n",
       "  'NEGATIVE',\n",
       "  0.9913976192474365,\n",
       "  'https://finance.yahoo.com/news/panasonic-sold-entire-stake-tesla-232731962.html'],\n",
       " ['TSLA',\n",
       "  'Boeing told it is not yet ready for significant certification step. Tesla to virtually ‘recall’ nearly 300,000 Model 3 and Y cars',\n",
       "  'NEGATIVE',\n",
       "  0.9942201972007751,\n",
       "  'https://finance.yahoo.com/news/boeing-tesla-johnson-johnson-fall-080631408.html'],\n",
       " ['TSLA',\n",
       "  'Regulator in China calls it a product recall. Tesla has recently run into product quality-related headaches',\n",
       "  'NEGATIVE',\n",
       "  0.9990779161453247,\n",
       "  'https://finance.yahoo.com/news/tesla-fixes-vehicle-safety-issue-085313833.html'],\n",
       " ['TSLA',\n",
       "  'Almost all the carmaker’s Model 3, Model Ys to be recalled. Tesla says it will continue to improve safety',\n",
       "  'POSITIVE',\n",
       "  0.9851698875427246,\n",
       "  'https://finance.yahoo.com/news/tesla-dealt-big-blow-almost-210000618.html'],\n",
       " ['TSLA',\n",
       "  '‘Traditional cap-weighted indices routinely buy high and sell low,’ Research says. Tesla has lagged the S&P 500 since December 2020 rebalance',\n",
       "  'NEGATIVE',\n",
       "  0.9991035461425781,\n",
       "  'https://finance.yahoo.com/news/the-company-tesla-booted-from-the-sp-500-is-outperforming-it-over-50-202435898.html'],\n",
       " ['TSLA',\n",
       "  'Tesla is underperforming the Auto-Tires-Trucks sector so far this year.',\n",
       "  'NEGATIVE',\n",
       "  0.9593161344528198,\n",
       "  'https://finance.yahoo.com/news/tesla-tsla-stock-sinks-market-214509160.html'],\n",
       " ['BTC',\n",
       "  'Vinnik had been sentenced last December on money-laundering charges. He was arrested in Greece in 2017 at the behest of U.S.',\n",
       "  'NEGATIVE',\n",
       "  0.9611397981643677,\n",
       "  'https://finance.yahoo.com/news/btc-e-operator-vinnik-five-173707861.html'],\n",
       " ['BTC',\n",
       "  'Complaint volume more than five times average each month. Coinbase says it’s beefing up its support team',\n",
       "  'NEGATIVE',\n",
       "  0.6672735810279846,\n",
       "  'https://finance.yahoo.com/news/coinbase-complaints-jump-as-bitcoin-and-crypto-interest-soars-183140248.html'],\n",
       " ['BTC',\n",
       "  'Alibaba founder Jack Ma says U.S. should follow China’s lead.',\n",
       "  'NEGATIVE',\n",
       "  0.5721613764762878,\n",
       "  'https://finance.yahoo.com/news/bitcoin-falls-8-5-31-222341377.html'],\n",
       " ['BTC',\n",
       "  'Fundstrat recommends reducing risk or buying some protection. Bitcoin has roughly halved from a peak near $65,000 in April',\n",
       "  'NEGATIVE',\n",
       "  0.9974943399429321,\n",
       "  'https://finance.yahoo.com/news/bitcoin-slips-toward-30-000-082337409.html'],\n",
       " ['BTC',\n",
       "  'Quantum not banned for regulated activities, CEO says. Bitcoin is up 1.6%, Ethereum up 8% on Tuesday',\n",
       "  'NEGATIVE',\n",
       "  0.9271972179412842,\n",
       "  'https://uk.finance.yahoo.com/news/crypto-update-bitcoin-price-ethereum-binance-29-june-080250617.html'],\n",
       " ['BTC',\n",
       "  'Peter Smith sees ‘fantastic news’ for Bitcoin ecosystem. Beijing’s crackdown will see miners move overseas',\n",
       "  'POSITIVE',\n",
       "  0.9988064169883728,\n",
       "  'https://finance.yahoo.com/news/china-bitcoin-crackdown-fantastic-news-for-bitcoin-blockchaincom-ceo-171135200.html'],\n",
       " ['BTC',\n",
       "  'Europe Opportunity Fund bought the shares. Grayscale is owned by CoinDesk Digital Currency Group.',\n",
       "  'NEGATIVE',\n",
       "  0.9742448329925537,\n",
       "  'https://finance.yahoo.com/news/morgan-stanley-buys-over-28-010916941.html'],\n",
       " ['BTC',\n",
       "  \"Don Vo, VBit Technologies CEO, talks about China's crackdown on crypto.\",\n",
       "  'POSITIVE',\n",
       "  0.9794243574142456,\n",
       "  'https://finance.yahoo.com/video/china-crackdown-bitcoin-giving-u-140953667.html'],\n",
       " ['BTC',\n",
       "  'BTIG reiterates year-end 2021 price targets for Bitcoin, Ether. Rally is ‘not necessarily ‘bullish,’ says Miller Tabak',\n",
       "  'NEGATIVE',\n",
       "  0.9942106604576111,\n",
       "  'https://finance.yahoo.com/news/bitcoin-price-crash-doesnt-mean-50000-level-cant-happen-this-year-strategist-160330395.html'],\n",
       " ['BTC',\n",
       "  'BTCC to pivot to blockchain use outside of trading. China has been ratcheting up pressure on crypto-related activity',\n",
       "  'NEGATIVE',\n",
       "  0.992952287197113,\n",
       "  'https://finance.yahoo.com/news/china-longest-running-crypto-exchange-072828465.html']]"
      ]
     },
     "execution_count": 42,
     "metadata": {},
     "output_type": "execute_result"
    }
   ],
   "source": [
    "final_output"
   ]
  },
  {
   "cell_type": "code",
   "execution_count": 44,
   "metadata": {},
   "outputs": [],
   "source": [
    "# Export the results to csv file\n",
    "import csv\n",
    "with open('financial-news-summaries.csv', mode='w', newline='') as f:\n",
    "    csv_writer = csv.writer(f, delimiter=',', quotechar='\"', quoting=csv.QUOTE_MINIMAL)\n",
    "    csv_writer.writerows(final_output)"
   ]
  },
  {
   "cell_type": "code",
   "execution_count": null,
   "metadata": {},
   "outputs": [],
   "source": []
  }
 ],
 "metadata": {
  "kernelspec": {
   "display_name": "Python 3",
   "language": "python",
   "name": "python3"
  },
  "language_info": {
   "codemirror_mode": {
    "name": "ipython",
    "version": 3
   },
   "file_extension": ".py",
   "mimetype": "text/x-python",
   "name": "python",
   "nbconvert_exporter": "python",
   "pygments_lexer": "ipython3",
   "version": "3.8.10"
  }
 },
 "nbformat": 4,
 "nbformat_minor": 2
}
